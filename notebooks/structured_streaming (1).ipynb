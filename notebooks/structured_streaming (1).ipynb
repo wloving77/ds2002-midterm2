{
 "cells": [
  {
   "cell_type": "markdown",
   "metadata": {
    "application/vnd.databricks.v1+cell": {
     "cellMetadata": {
      "byteLimit": 2048000,
      "rowLimit": 10000
     },
     "inputWidgets": {},
     "nuid": "873df2bc-7813-4361-b56c-3af212180a6e",
     "showTitle": false,
     "title": ""
    }
   },
   "source": [
    "## Here I will Use Structured Streaming to Create the fact_cannabis Table and Load it into MongoDB and SQL"
   ]
  },
  {
   "cell_type": "code",
   "execution_count": 0,
   "metadata": {
    "application/vnd.databricks.v1+cell": {
     "cellMetadata": {
      "byteLimit": 2048000,
      "rowLimit": 10000
     },
     "inputWidgets": {},
     "nuid": "32b1d914-47cd-4bc2-a522-2767f0e92b7d",
     "showTitle": false,
     "title": ""
    }
   },
   "outputs": [],
   "source": [
    "import os\n",
    "import json\n",
    "import pymongo\n",
    "import pyspark.pandas as pd  # This uses Koalas that is included in PySpark version 3.2 or newer.\n",
    "#import sqlalchemy\n",
    "#import pymysql\n",
    "from pyspark.sql.functions import col\n",
    "from pyspark.sql.types import StructType, StructField, StringType, TimestampType, BinaryType\n",
    "from pyspark.sql.types import ByteType, ShortType, IntegerType, LongType, FloatType, DecimalType\n",
    "\n",
    "#for writing the data to sql\n",
    "#from sqlalchemy import text, create_engine\n"
   ]
  },
  {
   "cell_type": "code",
   "execution_count": 0,
   "metadata": {
    "application/vnd.databricks.v1+cell": {
     "cellMetadata": {
      "byteLimit": 2048000,
      "rowLimit": 10000
     },
     "inputWidgets": {},
     "nuid": "d7daefd8-e97b-432f-9871-ef9e2afb242c",
     "showTitle": false,
     "title": ""
    }
   },
   "outputs": [
    {
     "output_type": "stream",
     "name": "stdout",
     "output_type": "stream",
     "text": [
      "Out[5]: False"
     ]
    }
   ],
   "source": [
    "#variable definitions for later\n",
    "\n",
    "#I pre-loaded a table into base_dir to kickoff the readstream\n",
    "\n",
    "stream_dir = \"dbfs:/FileStore/tables\"\n",
    "data_location = f\"{stream_dir}/stream/data\"\n",
    "schemaLocation = f\"{stream_dir}/stream/schemaLocation\"\n",
    "\n",
    "bronzeCP = f\"{stream_dir}/bronzeCheckPoint\"\n",
    "silverCP = f\"{stream_dir}/silverCheckPoint\"\n",
    "goldCP = f\"{stream_dir}/goldCheckPoint\"\n",
    "\n",
    "\n",
    "#Clear Checkpoint directories\n",
    "dbutils.fs.rm(\"dbfs:/FileStore/tables/bronzeCheckPoint\", True)\n",
    "dbutils.fs.rm(\"dbfs:/FileStore/tables/silverCheckPoint\", True)\n",
    "dbutils.fs.rm(\"dbfs:/FileStore/tables/goldCheckPoint\", True)\n",
    "\n",
    "# Delete the Streaming Files ################################## \n",
    "dbutils.fs.rm(f\"{stream_dir}/stream/schemaLocation\", True) \n",
    "\n",
    "# Delete the Database Files ###################################\n",
    "dbutils.fs.rm(\"dbfs:/FileStore/tables/ds2002-Midterm2\", True)\n",
    "\n",
    "\n",
    "\n",
    "\n"
   ]
  },
  {
   "cell_type": "markdown",
   "metadata": {
    "application/vnd.databricks.v1+cell": {
     "cellMetadata": {
      "byteLimit": 2048000,
      "rowLimit": 10000
     },
     "inputWidgets": {},
     "nuid": "73482acf-f129-4cb0-937f-b4ff9a0fe003",
     "showTitle": false,
     "title": ""
    }
   },
   "source": [
    "## Now I will load all of the data from the SQL Database Created in the Jupyter Notebook of this Repo"
   ]
  },
  {
   "cell_type": "code",
   "execution_count": 0,
   "metadata": {
    "application/vnd.databricks.v1+cell": {
     "cellMetadata": {
      "byteLimit": 2048000,
      "implicitDf": true,
      "rowLimit": 10000
     },
     "inputWidgets": {},
     "nuid": "5ac23aef-d3cb-46ed-a8c6-6b648ae78abf",
     "showTitle": false,
     "title": ""
    }
   },
   "outputs": [
    {
     "output_type": "display_data",
     "data": {
      "text/html": [
       "<style scoped>\n",
       "  .table-result-container {\n",
       "    max-height: 300px;\n",
       "    overflow: auto;\n",
       "  }\n",
       "  table, th, td {\n",
       "    border: 1px solid black;\n",
       "    border-collapse: collapse;\n",
       "  }\n",
       "  th, td {\n",
       "    padding: 5px;\n",
       "  }\n",
       "  th {\n",
       "    text-align: left;\n",
       "  }\n",
       "</style><div class='table-result-container'><table class='table-result'><thead style='background-color: white'><tr></tr></thead><tbody></tbody></table></div>"
      ]
     },
     "metadata": {
      "application/vnd.databricks.v1+output": {
       "addedWidgets": {},
       "aggData": [],
       "aggError": "",
       "aggOverflow": false,
       "aggSchema": [],
       "aggSeriesLimitReached": false,
       "aggType": "",
       "arguments": {},
       "columnCustomDisplayInfos": {},
       "data": [],
       "datasetInfos": [],
       "dbfsResultPath": null,
       "isJsonSchema": true,
       "metadata": {},
       "overflow": false,
       "plotOptions": {
        "customPlotOptions": {},
        "displayType": "table",
        "pivotAggregation": null,
        "pivotColumns": null,
        "xColumns": null,
        "yColumns": null
       },
       "removedWidgets": [],
       "schema": [],
       "type": "table"
      }
     },
     "output_type": "display_data"
    }
   ],
   "source": [
    "%sql\n",
    "DROP DATABASE IF EXISTS `ds2002_Midterm2` CASCADE;\n",
    "\n",
    "CREATE DATABASE IF NOT EXISTS `ds2002_Midterm2`\n",
    "COMMENT \"DS-2002 Lab 06 Database\""
   ]
  },
  {
   "cell_type": "code",
   "execution_count": 0,
   "metadata": {
    "application/vnd.databricks.v1+cell": {
     "cellMetadata": {
      "byteLimit": 2048000,
      "implicitDf": true,
      "rowLimit": 10000
     },
     "inputWidgets": {},
     "nuid": "961c26cb-ff8b-495d-81f5-23c7a03eb65e",
     "showTitle": false,
     "title": ""
    }
   },
   "outputs": [
    {
     "output_type": "display_data",
     "data": {
      "text/html": [
       "<style scoped>\n",
       "  .table-result-container {\n",
       "    max-height: 300px;\n",
       "    overflow: auto;\n",
       "  }\n",
       "  table, th, td {\n",
       "    border: 1px solid black;\n",
       "    border-collapse: collapse;\n",
       "  }\n",
       "  th, td {\n",
       "    padding: 5px;\n",
       "  }\n",
       "  th {\n",
       "    text-align: left;\n",
       "  }\n",
       "</style><div class='table-result-container'><table class='table-result'><thead style='background-color: white'><tr><th>date_key</th><th>full_date</th><th>date_name</th><th>date_name_us</th><th>date_name_eu</th><th>day_of_week</th><th>day_name_of_week</th><th>day_of_month</th><th>day_of_year</th><th>weekday_weekend</th><th>week_of_year</th><th>month_name</th><th>month_of_year</th><th>is_last_day_of_month</th><th>calendar_quarter</th><th>calendar_year</th><th>calendar_year_month</th><th>calendar_year_qtr</th><th>fiscal_month_of_year</th><th>fiscal_quarter</th><th>fiscal_year</th><th>fiscal_year_month</th><th>fiscal_year_qtr</th></tr></thead><tbody><tr><td>20050420</td><td>2005-04-20</td><td>2005/04/20</td><td>04/20/2005</td><td>20/04/2005</td><td>4</td><td>Wednesday</td><td>20</td><td>110</td><td>Weekday</td><td>16</td><td>April</td><td>4</td><td>N</td><td>2</td><td>2005</td><td>2005-04</td><td>2005Q2</td><td>10</td><td>4</td><td>2005</td><td>2005-10</td><td>2005Q4</td></tr><tr><td>20050421</td><td>2005-04-21</td><td>2005/04/21</td><td>04/21/2005</td><td>21/04/2005</td><td>5</td><td>Thursday</td><td>21</td><td>111</td><td>Weekday</td><td>16</td><td>April</td><td>4</td><td>N</td><td>2</td><td>2005</td><td>2005-04</td><td>2005Q2</td><td>10</td><td>4</td><td>2005</td><td>2005-10</td><td>2005Q4</td></tr><tr><td>20050422</td><td>2005-04-22</td><td>2005/04/22</td><td>04/22/2005</td><td>22/04/2005</td><td>6</td><td>Friday</td><td>22</td><td>112</td><td>Weekday</td><td>16</td><td>April</td><td>4</td><td>N</td><td>2</td><td>2005</td><td>2005-04</td><td>2005Q2</td><td>10</td><td>4</td><td>2005</td><td>2005-10</td><td>2005Q4</td></tr><tr><td>20050423</td><td>2005-04-23</td><td>2005/04/23</td><td>04/23/2005</td><td>23/04/2005</td><td>7</td><td>Saturday</td><td>23</td><td>113</td><td>Weekend</td><td>16</td><td>April</td><td>4</td><td>N</td><td>2</td><td>2005</td><td>2005-04</td><td>2005Q2</td><td>10</td><td>4</td><td>2005</td><td>2005-10</td><td>2005Q4</td></tr><tr><td>20050424</td><td>2005-04-24</td><td>2005/04/24</td><td>04/24/2005</td><td>24/04/2005</td><td>1</td><td>Sunday</td><td>24</td><td>114</td><td>Weekend</td><td>16</td><td>April</td><td>4</td><td>N</td><td>2</td><td>2005</td><td>2005-04</td><td>2005Q2</td><td>10</td><td>4</td><td>2005</td><td>2005-10</td><td>2005Q4</td></tr></tbody></table></div>"
      ]
     },
     "metadata": {
      "application/vnd.databricks.v1+output": {
       "addedWidgets": {},
       "aggData": [],
       "aggError": "",
       "aggOverflow": false,
       "aggSchema": [],
       "aggSeriesLimitReached": false,
       "aggType": "",
       "arguments": {},
       "columnCustomDisplayInfos": {},
       "data": [
        [
         20050420,
         "2005-04-20",
         "2005/04/20",
         "04/20/2005",
         "20/04/2005",
         4,
         "Wednesday",
         20,
         110,
         "Weekday",
         16,
         "April",
         4,
         "N",
         2,
         2005,
         "2005-04",
         "2005Q2",
         10,
         4,
         2005,
         "2005-10",
         "2005Q4"
        ],
        [
         20050421,
         "2005-04-21",
         "2005/04/21",
         "04/21/2005",
         "21/04/2005",
         5,
         "Thursday",
         21,
         111,
         "Weekday",
         16,
         "April",
         4,
         "N",
         2,
         2005,
         "2005-04",
         "2005Q2",
         10,
         4,
         2005,
         "2005-10",
         "2005Q4"
        ],
        [
         20050422,
         "2005-04-22",
         "2005/04/22",
         "04/22/2005",
         "22/04/2005",
         6,
         "Friday",
         22,
         112,
         "Weekday",
         16,
         "April",
         4,
         "N",
         2,
         2005,
         "2005-04",
         "2005Q2",
         10,
         4,
         2005,
         "2005-10",
         "2005Q4"
        ],
        [
         20050423,
         "2005-04-23",
         "2005/04/23",
         "04/23/2005",
         "23/04/2005",
         7,
         "Saturday",
         23,
         113,
         "Weekend",
         16,
         "April",
         4,
         "N",
         2,
         2005,
         "2005-04",
         "2005Q2",
         10,
         4,
         2005,
         "2005-10",
         "2005Q4"
        ],
        [
         20050424,
         "2005-04-24",
         "2005/04/24",
         "04/24/2005",
         "24/04/2005",
         1,
         "Sunday",
         24,
         114,
         "Weekend",
         16,
         "April",
         4,
         "N",
         2,
         2005,
         "2005-04",
         "2005Q2",
         10,
         4,
         2005,
         "2005-10",
         "2005Q4"
        ]
       ],
       "datasetInfos": [],
       "dbfsResultPath": null,
       "isJsonSchema": true,
       "metadata": {},
       "overflow": false,
       "plotOptions": {
        "customPlotOptions": {},
        "displayType": "table",
        "pivotAggregation": null,
        "pivotColumns": null,
        "xColumns": null,
        "yColumns": null
       },
       "removedWidgets": [],
       "schema": [
        {
         "metadata": "{\"scale\":0}",
         "name": "date_key",
         "type": "\"integer\""
        },
        {
         "metadata": "{\"scale\":0}",
         "name": "full_date",
         "type": "\"date\""
        },
        {
         "metadata": "{\"scale\":0}",
         "name": "date_name",
         "type": "\"string\""
        },
        {
         "metadata": "{\"scale\":0}",
         "name": "date_name_us",
         "type": "\"string\""
        },
        {
         "metadata": "{\"scale\":0}",
         "name": "date_name_eu",
         "type": "\"string\""
        },
        {
         "metadata": "{\"scale\":0}",
         "name": "day_of_week",
         "type": "\"integer\""
        },
        {
         "metadata": "{\"scale\":0}",
         "name": "day_name_of_week",
         "type": "\"string\""
        },
        {
         "metadata": "{\"scale\":0}",
         "name": "day_of_month",
         "type": "\"integer\""
        },
        {
         "metadata": "{\"scale\":0}",
         "name": "day_of_year",
         "type": "\"integer\""
        },
        {
         "metadata": "{\"scale\":0}",
         "name": "weekday_weekend",
         "type": "\"string\""
        },
        {
         "metadata": "{\"scale\":0}",
         "name": "week_of_year",
         "type": "\"integer\""
        },
        {
         "metadata": "{\"scale\":0}",
         "name": "month_name",
         "type": "\"string\""
        },
        {
         "metadata": "{\"scale\":0}",
         "name": "month_of_year",
         "type": "\"integer\""
        },
        {
         "metadata": "{\"scale\":0}",
         "name": "is_last_day_of_month",
         "type": "\"string\""
        },
        {
         "metadata": "{\"scale\":0}",
         "name": "calendar_quarter",
         "type": "\"integer\""
        },
        {
         "metadata": "{\"scale\":0}",
         "name": "calendar_year",
         "type": "\"integer\""
        },
        {
         "metadata": "{\"scale\":0}",
         "name": "calendar_year_month",
         "type": "\"string\""
        },
        {
         "metadata": "{\"scale\":0}",
         "name": "calendar_year_qtr",
         "type": "\"string\""
        },
        {
         "metadata": "{\"scale\":0}",
         "name": "fiscal_month_of_year",
         "type": "\"integer\""
        },
        {
         "metadata": "{\"scale\":0}",
         "name": "fiscal_quarter",
         "type": "\"integer\""
        },
        {
         "metadata": "{\"scale\":0}",
         "name": "fiscal_year",
         "type": "\"integer\""
        },
        {
         "metadata": "{\"scale\":0}",
         "name": "fiscal_year_month",
         "type": "\"string\""
        },
        {
         "metadata": "{\"scale\":0}",
         "name": "fiscal_year_qtr",
         "type": "\"string\""
        }
       ],
       "type": "table"
      }
     },
     "output_type": "display_data"
    }
   ],
   "source": [
    "%sql\n",
    "CREATE OR REPLACE TEMPORARY VIEW `dim_date_view`\n",
    "  USING org.apache.spark.sql.jdbc\n",
    "  OPTIONS (\n",
    "    url \"jdbc:mysql://wfl9zymysql.mysql.database.azure.com:3306/ds2002-midterm2\",\n",
    "    dbtable \"dim_date\",\n",
    "    user \"wloving77\",\n",
    "    password \"PASSWORD\"\n",
    "  );\n",
    "\n",
    "USE DATABASE `ds2002_Midterm2`;\n",
    "\n",
    "CREATE OR REPLACE TABLE `dim_date`\n",
    "  USING DELTA\n",
    "  OPTIONS (\n",
    "  'delta.columnMapping.mode'='name',\n",
    "  'delta.minReaderVersion'='2',\n",
    "  'delta.minWriterVersion'='5'\n",
    "  )\n",
    "  AS SELECT * FROM `dim_date_view`;\n",
    "\n",
    "  SELECT * FROM dim_date\n",
    "  LIMIT 5;"
   ]
  },
  {
   "cell_type": "code",
   "execution_count": 0,
   "metadata": {
    "application/vnd.databricks.v1+cell": {
     "cellMetadata": {
      "byteLimit": 2048000,
      "implicitDf": true,
      "rowLimit": 10000
     },
     "inputWidgets": {},
     "nuid": "542621c7-908e-4c0a-a282-4a14ce9a62e5",
     "showTitle": false,
     "title": ""
    }
   },
   "outputs": [
    {
     "output_type": "display_data",
     "data": {
      "text/html": [
       "<style scoped>\n",
       "  .table-result-container {\n",
       "    max-height: 300px;\n",
       "    overflow: auto;\n",
       "  }\n",
       "  table, th, td {\n",
       "    border: 1px solid black;\n",
       "    border-collapse: collapse;\n",
       "  }\n",
       "  th, td {\n",
       "    padding: 5px;\n",
       "  }\n",
       "  th {\n",
       "    text-align: left;\n",
       "  }\n",
       "</style><div class='table-result-container'><table class='table-result'><thead style='background-color: white'><tr><th>REF_DATE</th><th>GEO</th><th>DGUID</th><th>Estimate</th><th>Industry</th><th>UOM</th><th>UOM_ID</th><th>SCALAR_FACTOR</th><th>SCALAR_ID</th><th>VECTOR</th><th>COORDINATE</th><th>VALUE</th><th>DECIMALS</th></tr></thead><tbody><tr><td>1961</td><td>Canada</td><td>2016A000011124</td><td>Gross domestic product (GDP)</td><td>Medical cannabis industry</td><td>Dollars</td><td>81</td><td>millions</td><td>6</td><td>v1001809219</td><td>1.1.1</td><td>0</td><td>0</td></tr><tr><td>1961</td><td>Canada</td><td>2016A000011124</td><td>Gross domestic product (GDP)</td><td>Non-medical cannabis industry</td><td>Dollars</td><td>81</td><td>millions</td><td>6</td><td>v1001809224</td><td>1.1.2</td><td>94</td><td>0</td></tr><tr><td>1961</td><td>Canada</td><td>2016A000011124</td><td>Compensation of employees</td><td>Medical cannabis industry</td><td>Dollars</td><td>81</td><td>millions</td><td>6</td><td>v1001809220</td><td>1.2.1</td><td>0</td><td>0</td></tr><tr><td>1961</td><td>Canada</td><td>2016A000011124</td><td>Compensation of employees</td><td>Non-medical cannabis industry</td><td>Dollars</td><td>81</td><td>millions</td><td>6</td><td>v1001809225</td><td>1.2.2</td><td>0</td><td>0</td></tr><tr><td>1961</td><td>Canada</td><td>2016A000011124</td><td>Gross operating surplus</td><td>Medical cannabis industry</td><td>Dollars</td><td>81</td><td>millions</td><td>6</td><td>v1001809221</td><td>1.3.1</td><td>0</td><td>0</td></tr></tbody></table></div>"
      ]
     },
     "metadata": {
      "application/vnd.databricks.v1+output": {
       "addedWidgets": {},
       "aggData": [],
       "aggError": "",
       "aggOverflow": false,
       "aggSchema": [],
       "aggSeriesLimitReached": false,
       "aggType": "",
       "arguments": {},
       "columnCustomDisplayInfos": {},
       "data": [
        [
         1961,
         "Canada",
         "2016A000011124",
         "Gross domestic product (GDP)",
         "Medical cannabis industry",
         "Dollars",
         81,
         "millions",
         6,
         "v1001809219",
         "1.1.1",
         0,
         0
        ],
        [
         1961,
         "Canada",
         "2016A000011124",
         "Gross domestic product (GDP)",
         "Non-medical cannabis industry",
         "Dollars",
         81,
         "millions",
         6,
         "v1001809224",
         "1.1.2",
         94,
         0
        ],
        [
         1961,
         "Canada",
         "2016A000011124",
         "Compensation of employees",
         "Medical cannabis industry",
         "Dollars",
         81,
         "millions",
         6,
         "v1001809220",
         "1.2.1",
         0,
         0
        ],
        [
         1961,
         "Canada",
         "2016A000011124",
         "Compensation of employees",
         "Non-medical cannabis industry",
         "Dollars",
         81,
         "millions",
         6,
         "v1001809225",
         "1.2.2",
         0,
         0
        ],
        [
         1961,
         "Canada",
         "2016A000011124",
         "Gross operating surplus",
         "Medical cannabis industry",
         "Dollars",
         81,
         "millions",
         6,
         "v1001809221",
         "1.3.1",
         0,
         0
        ]
       ],
       "datasetInfos": [],
       "dbfsResultPath": null,
       "isJsonSchema": true,
       "metadata": {},
       "overflow": false,
       "plotOptions": {
        "customPlotOptions": {},
        "displayType": "table",
        "pivotAggregation": null,
        "pivotColumns": null,
        "xColumns": null,
        "yColumns": null
       },
       "removedWidgets": [],
       "schema": [
        {
         "metadata": "{\"scale\":0}",
         "name": "REF_DATE",
         "type": "\"long\""
        },
        {
         "metadata": "{\"scale\":0}",
         "name": "GEO",
         "type": "\"string\""
        },
        {
         "metadata": "{\"scale\":0}",
         "name": "DGUID",
         "type": "\"string\""
        },
        {
         "metadata": "{\"scale\":0}",
         "name": "Estimate",
         "type": "\"string\""
        },
        {
         "metadata": "{\"scale\":0}",
         "name": "Industry",
         "type": "\"string\""
        },
        {
         "metadata": "{\"scale\":0}",
         "name": "UOM",
         "type": "\"string\""
        },
        {
         "metadata": "{\"scale\":0}",
         "name": "UOM_ID",
         "type": "\"long\""
        },
        {
         "metadata": "{\"scale\":0}",
         "name": "SCALAR_FACTOR",
         "type": "\"string\""
        },
        {
         "metadata": "{\"scale\":0}",
         "name": "SCALAR_ID",
         "type": "\"long\""
        },
        {
         "metadata": "{\"scale\":0}",
         "name": "VECTOR",
         "type": "\"string\""
        },
        {
         "metadata": "{\"scale\":0}",
         "name": "COORDINATE",
         "type": "\"string\""
        },
        {
         "metadata": "{\"scale\":0}",
         "name": "VALUE",
         "type": "\"long\""
        },
        {
         "metadata": "{\"scale\":0}",
         "name": "DECIMALS",
         "type": "\"long\""
        }
       ],
       "type": "table"
      }
     },
     "output_type": "display_data"
    }
   ],
   "source": [
    "%sql\n",
    "CREATE OR REPLACE TEMPORARY VIEW `income_view`\n",
    "  USING org.apache.spark.sql.jdbc\n",
    "  OPTIONS (\n",
    "    url \"jdbc:mysql://wfl9zymysql.mysql.database.azure.com:3306/ds2002-midterm2\",\n",
    "    dbtable \"income\",\n",
    "    user \"wloving77\",\n",
    "    password \"PASSWORD\"\n",
    "  );\n",
    "\n",
    "USE DATABASE `ds2002_Midterm2`;\n",
    "\n",
    "CREATE OR REPLACE TABLE `income`\n",
    "  USING DELTA\n",
    "  OPTIONS (\n",
    "  'delta.columnMapping.mode'='name',\n",
    "  'delta.minReaderVersion'='2',\n",
    "  'delta.minWriterVersion'='5'\n",
    "  )\n",
    "  AS SELECT * FROM `income_view`;\n",
    "\n",
    "  SELECT * FROM income\n",
    "  LIMIT 5;"
   ]
  },
  {
   "cell_type": "code",
   "execution_count": 0,
   "metadata": {
    "application/vnd.databricks.v1+cell": {
     "cellMetadata": {
      "byteLimit": 2048000,
      "implicitDf": true,
      "rowLimit": 10000
     },
     "inputWidgets": {},
     "nuid": "b3a8d18e-a582-4943-808d-6c1fa32ba7a2",
     "showTitle": false,
     "title": ""
    }
   },
   "outputs": [
    {
     "output_type": "display_data",
     "data": {
      "text/html": [
       "<style scoped>\n",
       "  .table-result-container {\n",
       "    max-height: 300px;\n",
       "    overflow: auto;\n",
       "  }\n",
       "  table, th, td {\n",
       "    border: 1px solid black;\n",
       "    border-collapse: collapse;\n",
       "  }\n",
       "  th, td {\n",
       "    padding: 5px;\n",
       "  }\n",
       "  th {\n",
       "    text-align: left;\n",
       "  }\n",
       "</style><div class='table-result-container'><table class='table-result'><thead style='background-color: white'><tr><th>REF_DATE</th><th>GEO</th><th>DGUID</th><th>Indicator</th><th>UOM</th><th>UOM_ID</th><th>SCALAR_FACTOR</th><th>SCALAR_ID</th><th>VECTOR</th><th>COORDINATE</th><th>VALUE</th><th>DECIMALS</th></tr></thead><tbody><tr><td>2016</td><td>Canada</td><td>2016A000011124</td><td>Total revenue</td><td>Dollars</td><td>81</td><td>units </td><td>0</td><td>v1001849328</td><td>1.1</td><td>2.45732E8</td><td>0</td></tr><tr><td>2016</td><td>Canada</td><td>2016A000011124</td><td>Cannabis revenue</td><td>Dollars</td><td>81</td><td>units </td><td>0</td><td>v1001849329</td><td>1.2</td><td>2.39363E8</td><td>0</td></tr><tr><td>2016</td><td>Canada</td><td>2016A000011124</td><td>Other cannabis-related revenue</td><td>Dollars</td><td>81</td><td>units </td><td>0</td><td>v1001849330</td><td>1.3</td><td>3088000.0</td><td>0</td></tr><tr><td>2016</td><td>Canada</td><td>2016A000011124</td><td>Revenues not related to cannabis</td><td>Dollars</td><td>81</td><td>units </td><td>0</td><td>v1001849331</td><td>1.4</td><td>3281000.0</td><td>0</td></tr><tr><td>2016</td><td>Canada</td><td>2016A000011124</td><td>Total sales</td><td>Dollars</td><td>81</td><td>units </td><td>0</td><td>v1001849332</td><td>1.5</td><td>77309.0</td><td>0</td></tr></tbody></table></div>"
      ]
     },
     "metadata": {
      "application/vnd.databricks.v1+output": {
       "addedWidgets": {},
       "aggData": [],
       "aggError": "",
       "aggOverflow": false,
       "aggSchema": [],
       "aggSeriesLimitReached": false,
       "aggType": "",
       "arguments": {},
       "columnCustomDisplayInfos": {},
       "data": [
        [
         2016,
         "Canada",
         "2016A000011124",
         "Total revenue",
         "Dollars",
         81,
         "units ",
         0,
         "v1001849328",
         1.1,
         2.45732E8,
         0
        ],
        [
         2016,
         "Canada",
         "2016A000011124",
         "Cannabis revenue",
         "Dollars",
         81,
         "units ",
         0,
         "v1001849329",
         1.2,
         2.39363E8,
         0
        ],
        [
         2016,
         "Canada",
         "2016A000011124",
         "Other cannabis-related revenue",
         "Dollars",
         81,
         "units ",
         0,
         "v1001849330",
         1.3,
         3088000.0,
         0
        ],
        [
         2016,
         "Canada",
         "2016A000011124",
         "Revenues not related to cannabis",
         "Dollars",
         81,
         "units ",
         0,
         "v1001849331",
         1.4,
         3281000.0,
         0
        ],
        [
         2016,
         "Canada",
         "2016A000011124",
         "Total sales",
         "Dollars",
         81,
         "units ",
         0,
         "v1001849332",
         1.5,
         77309.0,
         0
        ]
       ],
       "datasetInfos": [],
       "dbfsResultPath": null,
       "isJsonSchema": true,
       "metadata": {},
       "overflow": false,
       "plotOptions": {
        "customPlotOptions": {},
        "displayType": "table",
        "pivotAggregation": null,
        "pivotColumns": null,
        "xColumns": null,
        "yColumns": null
       },
       "removedWidgets": [],
       "schema": [
        {
         "metadata": "{\"scale\":0}",
         "name": "REF_DATE",
         "type": "\"long\""
        },
        {
         "metadata": "{\"scale\":0}",
         "name": "GEO",
         "type": "\"string\""
        },
        {
         "metadata": "{\"scale\":0}",
         "name": "DGUID",
         "type": "\"string\""
        },
        {
         "metadata": "{\"scale\":0}",
         "name": "Indicator",
         "type": "\"string\""
        },
        {
         "metadata": "{\"scale\":0}",
         "name": "UOM",
         "type": "\"string\""
        },
        {
         "metadata": "{\"scale\":0}",
         "name": "UOM_ID",
         "type": "\"long\""
        },
        {
         "metadata": "{\"scale\":0}",
         "name": "SCALAR_FACTOR",
         "type": "\"string\""
        },
        {
         "metadata": "{\"scale\":0}",
         "name": "SCALAR_ID",
         "type": "\"long\""
        },
        {
         "metadata": "{\"scale\":0}",
         "name": "VECTOR",
         "type": "\"string\""
        },
        {
         "metadata": "{\"scale\":31}",
         "name": "COORDINATE",
         "type": "\"double\""
        },
        {
         "metadata": "{\"scale\":31}",
         "name": "VALUE",
         "type": "\"double\""
        },
        {
         "metadata": "{\"scale\":0}",
         "name": "DECIMALS",
         "type": "\"long\""
        }
       ],
       "type": "table"
      }
     },
     "output_type": "display_data"
    }
   ],
   "source": [
    "%sql\n",
    "CREATE OR REPLACE TEMPORARY VIEW `licensed_industry_stats_view`\n",
    "  USING org.apache.spark.sql.jdbc\n",
    "  OPTIONS (\n",
    "    url \"jdbc:mysql://wfl9zymysql.mysql.database.azure.com:3306/ds2002-midterm2\",\n",
    "    dbtable \"licensed_industry_stats\",\n",
    "    user \"wloving77\",\n",
    "    password \"PASSWORD\"\n",
    "  );\n",
    "\n",
    "USE DATABASE `ds2002_Midterm2`;\n",
    "\n",
    "CREATE OR REPLACE TABLE `licensed_industry_stats`\n",
    "  USING DELTA\n",
    "  OPTIONS (\n",
    "  'delta.columnMapping.mode'='name',\n",
    "  'delta.minReaderVersion'='2',\n",
    "  'delta.minWriterVersion'='5'\n",
    "  )\n",
    "  AS SELECT * FROM `licensed_industry_stats_view`;\n",
    "\n",
    "SELECT * FROM licensed_industry_stats\n",
    "LIMIT 5;"
   ]
  },
  {
   "cell_type": "code",
   "execution_count": 0,
   "metadata": {
    "application/vnd.databricks.v1+cell": {
     "cellMetadata": {
      "byteLimit": 2048000,
      "implicitDf": true,
      "rowLimit": 10000
     },
     "inputWidgets": {},
     "nuid": "450328b8-77d2-4d9c-b47e-1b67d4cb8918",
     "showTitle": false,
     "title": ""
    }
   },
   "outputs": [
    {
     "output_type": "display_data",
     "data": {
      "text/html": [
       "<style scoped>\n",
       "  .table-result-container {\n",
       "    max-height: 300px;\n",
       "    overflow: auto;\n",
       "  }\n",
       "  table, th, td {\n",
       "    border: 1px solid black;\n",
       "    border-collapse: collapse;\n",
       "  }\n",
       "  th, td {\n",
       "    padding: 5px;\n",
       "  }\n",
       "  th {\n",
       "    text-align: left;\n",
       "  }\n",
       "</style><div class='table-result-container'><table class='table-result'><thead style='background-color: white'><tr><th>database</th><th>tableName</th><th>isTemporary</th></tr></thead><tbody><tr><td>ds2002_midterm2</td><td>dim_date</td><td>false</td></tr><tr><td>ds2002_midterm2</td><td>income</td><td>false</td></tr><tr><td>ds2002_midterm2</td><td>licensed_industry_stats</td><td>false</td></tr><tr><td></td><td>dim_date_view</td><td>true</td></tr><tr><td></td><td>income_view</td><td>true</td></tr><tr><td></td><td>licensed_industry_stats_view</td><td>true</td></tr></tbody></table></div>"
      ]
     },
     "metadata": {
      "application/vnd.databricks.v1+output": {
       "addedWidgets": {},
       "aggData": [],
       "aggError": "",
       "aggOverflow": false,
       "aggSchema": [],
       "aggSeriesLimitReached": false,
       "aggType": "",
       "arguments": {},
       "columnCustomDisplayInfos": {},
       "data": [
        [
         "ds2002_midterm2",
         "dim_date",
         false
        ],
        [
         "ds2002_midterm2",
         "income",
         false
        ],
        [
         "ds2002_midterm2",
         "licensed_industry_stats",
         false
        ],
        [
         "",
         "dim_date_view",
         true
        ],
        [
         "",
         "income_view",
         true
        ],
        [
         "",
         "licensed_industry_stats_view",
         true
        ]
       ],
       "datasetInfos": [],
       "dbfsResultPath": null,
       "isJsonSchema": true,
       "metadata": {},
       "overflow": false,
       "plotOptions": {
        "customPlotOptions": {},
        "displayType": "table",
        "pivotAggregation": null,
        "pivotColumns": null,
        "xColumns": null,
        "yColumns": null
       },
       "removedWidgets": [],
       "schema": [
        {
         "metadata": "{}",
         "name": "database",
         "type": "\"string\""
        },
        {
         "metadata": "{}",
         "name": "tableName",
         "type": "\"string\""
        },
        {
         "metadata": "{}",
         "name": "isTemporary",
         "type": "\"boolean\""
        }
       ],
       "type": "table"
      }
     },
     "output_type": "display_data"
    }
   ],
   "source": [
    "%sql\n",
    "\n",
    "USE DATABASE`ds2002_Midterm2`;\n",
    "\n",
    "SHOW TABLES;"
   ]
  },
  {
   "cell_type": "markdown",
   "metadata": {
    "application/vnd.databricks.v1+cell": {
     "cellMetadata": {
      "byteLimit": 2048000,
      "rowLimit": 10000
     },
     "inputWidgets": {},
     "nuid": "e0815ece-bb2e-4d2f-b2e5-ee3d61690f22",
     "showTitle": false,
     "title": ""
    }
   },
   "source": [
    "## Now We Can Begin Building the Structured Streaming Using Bronze, Silver, and Gold Tables:\n",
    "- Bronze First:"
   ]
  },
  {
   "cell_type": "code",
   "execution_count": 0,
   "metadata": {
    "application/vnd.databricks.v1+cell": {
     "cellMetadata": {
      "byteLimit": 2048000,
      "rowLimit": 10000
     },
     "inputWidgets": {},
     "nuid": "bea574e3-5ba8-4f3f-bcfc-549e71de3247",
     "showTitle": false,
     "title": ""
    }
   },
   "outputs": [],
   "source": [
    "(spark.readStream\n",
    " .format(\"cloudFiles\")\n",
    " .option(\"cloudFiles.format\", \"csv\")\n",
    " .option(\"cloudFiles.inferColumnTypes\", \"true\")\n",
    " .option(\"multiLine\", \"true\")\n",
    " .option(\"cloudFiles.schemaLocation\", schemaLocation)\n",
    " .load(data_location)\n",
    " .createOrReplaceTempView(\"consumer_and_producer_view\"))"
   ]
  },
  {
   "cell_type": "code",
   "execution_count": 0,
   "metadata": {
    "application/vnd.databricks.v1+cell": {
     "cellMetadata": {
      "byteLimit": 2048000,
      "implicitDf": true,
      "rowLimit": 10000
     },
     "inputWidgets": {},
     "nuid": "3aae739c-9270-452e-989b-8f84732ac263",
     "showTitle": false,
     "title": ""
    }
   },
   "outputs": [
    {
     "output_type": "display_data",
     "data": {
      "text/html": [
       "<style scoped>\n",
       "  .table-result-container {\n",
       "    max-height: 300px;\n",
       "    overflow: auto;\n",
       "  }\n",
       "  table, th, td {\n",
       "    border: 1px solid black;\n",
       "    border-collapse: collapse;\n",
       "  }\n",
       "  th, td {\n",
       "    padding: 5px;\n",
       "  }\n",
       "  th {\n",
       "    text-align: left;\n",
       "  }\n",
       "</style><div class='table-result-container'><table class='table-result'><thead style='background-color: white'><tr></tr></thead><tbody></tbody></table></div>"
      ]
     },
     "metadata": {
      "application/vnd.databricks.v1+output": {
       "addedWidgets": {},
       "aggData": [],
       "aggError": "",
       "aggOverflow": false,
       "aggSchema": [],
       "aggSeriesLimitReached": false,
       "aggType": "",
       "arguments": {},
       "columnCustomDisplayInfos": {},
       "data": [],
       "datasetInfos": [],
       "dbfsResultPath": null,
       "isJsonSchema": true,
       "metadata": {},
       "overflow": false,
       "plotOptions": {
        "customPlotOptions": {},
        "displayType": "table",
        "pivotAggregation": null,
        "pivotColumns": null,
        "xColumns": null,
        "yColumns": null
       },
       "removedWidgets": [],
       "schema": [],
       "type": "table"
      }
     },
     "output_type": "display_data"
    }
   ],
   "source": [
    "%sql\n",
    "/* Add Metadata for Traceability */\n",
    "CREATE OR REPLACE TEMPORARY VIEW consumer_and_producer_tempview AS (\n",
    "  SELECT *, current_timestamp() receipt_time, input_file_name() source_file\n",
    "  FROM consumer_and_producer_view\n",
    ");"
   ]
  },
  {
   "cell_type": "code",
   "execution_count": 0,
   "metadata": {
    "application/vnd.databricks.v1+cell": {
     "cellMetadata": {
      "byteLimit": 2048000,
      "rowLimit": 10000
     },
     "inputWidgets": {},
     "nuid": "90470d2d-5d74-4006-9061-bdcc6c1f0015",
     "showTitle": false,
     "title": ""
    }
   },
   "outputs": [
    {
     "output_type": "stream",
     "name": "stdout",
     "output_type": "stream",
     "text": [
      "Out[15]: <pyspark.sql.streaming.query.StreamingQuery at 0x7f85c57feb20>"
     ]
    }
   ],
   "source": [
    "(spark.table(\"consumer_and_producer_tempview\")\n",
    "      .writeStream\n",
    "      .format(\"delta\")\n",
    "      .option(\"checkpointLocation\", f\"{bronzeCP}/_checkpoint\")\n",
    "      .outputMode(\"append\")\n",
    "      .table(\"fact_consumer_and_producer\"))"
   ]
  },
  {
   "cell_type": "markdown",
   "metadata": {
    "application/vnd.databricks.v1+cell": {
     "cellMetadata": {
      "byteLimit": 2048000,
      "rowLimit": 10000
     },
     "inputWidgets": {},
     "nuid": "40a1c646-0cfe-439a-a530-b890b8fec11b",
     "showTitle": false,
     "title": ""
    }
   },
   "source": [
    "## Now Silver:"
   ]
  },
  {
   "cell_type": "code",
   "execution_count": 0,
   "metadata": {
    "application/vnd.databricks.v1+cell": {
     "cellMetadata": {
      "byteLimit": 2048000,
      "rowLimit": 10000
     },
     "inputWidgets": {},
     "nuid": "1fda75e8-53c0-4f74-984e-83e5228d4435",
     "showTitle": false,
     "title": ""
    }
   },
   "outputs": [],
   "source": [
    "(spark.readStream\n",
    "  .table(\"fact_consumer_and_producer\")\n",
    "  .createOrReplaceTempView(\"consumer_and_producer_silver_view\"))"
   ]
  },
  {
   "cell_type": "markdown",
   "metadata": {
    "application/vnd.databricks.v1+cell": {
     "cellMetadata": {
      "byteLimit": 2048000,
      "rowLimit": 10000
     },
     "inputWidgets": {},
     "nuid": "9c100607-44f4-4c46-85a9-ad28f0b3b6ee",
     "showTitle": false,
     "title": ""
    }
   },
   "source": [
    "- Now to Build The Actual Fact Table:"
   ]
  },
  {
   "cell_type": "code",
   "execution_count": 0,
   "metadata": {
    "application/vnd.databricks.v1+cell": {
     "cellMetadata": {
      "byteLimit": 2048000,
      "implicitDf": true,
      "rowLimit": 10000
     },
     "inputWidgets": {},
     "nuid": "e1d99420-d663-4957-875e-bfd937a701d1",
     "showTitle": false,
     "title": ""
    }
   },
   "outputs": [
    {
     "output_type": "display_data",
     "data": {
      "text/html": [
       "<style scoped>\n",
       "  .table-result-container {\n",
       "    max-height: 300px;\n",
       "    overflow: auto;\n",
       "  }\n",
       "  table, th, td {\n",
       "    border: 1px solid black;\n",
       "    border-collapse: collapse;\n",
       "  }\n",
       "  th, td {\n",
       "    padding: 5px;\n",
       "  }\n",
       "  th {\n",
       "    text-align: left;\n",
       "  }\n",
       "</style><div class='table-result-container'><table class='table-result'><thead style='background-color: white'><tr></tr></thead><tbody></tbody></table></div>"
      ]
     },
     "metadata": {
      "application/vnd.databricks.v1+output": {
       "addedWidgets": {},
       "aggData": [],
       "aggError": "",
       "aggOverflow": false,
       "aggSchema": [],
       "aggSeriesLimitReached": false,
       "aggType": "",
       "arguments": {},
       "columnCustomDisplayInfos": {},
       "data": [],
       "datasetInfos": [],
       "dbfsResultPath": null,
       "isJsonSchema": true,
       "metadata": {},
       "overflow": false,
       "plotOptions": {
        "customPlotOptions": {},
        "displayType": "table",
        "pivotAggregation": null,
        "pivotColumns": null,
        "xColumns": null,
        "yColumns": null
       },
       "removedWidgets": [],
       "schema": [],
       "type": "table"
      }
     },
     "output_type": "display_data"
    }
   ],
   "source": [
    "%sql\n",
    "\n",
    "CREATE OR REPLACE TEMPORARY VIEW consumer_and_producer_silver_tempview AS (\n",
    "  SELECT cas.GEO, \n",
    "    cas.Cannabis_price,\n",
    "    cas.Units_of_measure,\n",
    "    cas.UOM as CaS_UOM,\n",
    "    cas.UOM_ID as CaS_UOM_ID, \n",
    "    cas.SCALAR_FACTOR as CaS_Scalar_Factor,\n",
    "    income.Estimate,\n",
    "    income.Industry as income_Industry,\n",
    "    income.UOM as income_UOM,\n",
    "    income.UOM_ID as income_UOM_ID,\n",
    "    income.SCALAR_FACTOR as income_Scalar_Factor,\n",
    "    lis.Indicator as LicensedIndustryStats_Indicator,\n",
    "    lis.UOM as LicensedIndustryStats_UOM,\n",
    "    lis.UOM_ID as LicensedIndustryStats_UOM_ID,\n",
    "    lis.SCALAR_FACTOR as LicensedIndustryStats_Scalar_Factor\n",
    "  FROM consumer_and_producer_silver_view as cas\n",
    "  INNER JOIN income\n",
    "  ON cas.GEO = income.GEO\n",
    "  INNER JOIN licensed_industry_stats as lis\n",
    "  ON cas.GEO = lis.GEO\n",
    ")\n"
   ]
  },
  {
   "cell_type": "code",
   "execution_count": 0,
   "metadata": {
    "application/vnd.databricks.v1+cell": {
     "cellMetadata": {
      "byteLimit": 2048000,
      "rowLimit": 10000
     },
     "inputWidgets": {},
     "nuid": "093462bb-27b0-4fc9-b721-2a8fa4055f84",
     "showTitle": false,
     "title": ""
    }
   },
   "outputs": [
    {
     "output_type": "stream",
     "name": "stdout",
     "output_type": "stream",
     "text": [
      "Out[18]: <pyspark.sql.streaming.query.StreamingQuery at 0x7f85c56d0610>"
     ]
    }
   ],
   "source": [
    "(spark.table(\"consumer_and_producer_silver_tempview\").writeStream\n",
    "    .format(\"delta\")\n",
    "    .option(\"checkpointLocation\", f\"{silverCP}/_checkpoint\")\n",
    "    .outputMode(\"append\")\n",
    "    .table(\"fact_cannabis_silver\"))"
   ]
  },
  {
   "cell_type": "code",
   "execution_count": 0,
   "metadata": {
    "application/vnd.databricks.v1+cell": {
     "cellMetadata": {
      "byteLimit": 2048000,
      "implicitDf": true,
      "rowLimit": 10000
     },
     "inputWidgets": {},
     "nuid": "28cfd5a2-17ea-4433-985a-111f9b139d79",
     "showTitle": false,
     "title": ""
    }
   },
   "outputs": [
    {
     "output_type": "display_data",
     "data": {
      "text/html": [
       "<style scoped>\n",
       "  .table-result-container {\n",
       "    max-height: 300px;\n",
       "    overflow: auto;\n",
       "  }\n",
       "  table, th, td {\n",
       "    border: 1px solid black;\n",
       "    border-collapse: collapse;\n",
       "  }\n",
       "  th, td {\n",
       "    padding: 5px;\n",
       "  }\n",
       "  th {\n",
       "    text-align: left;\n",
       "  }\n",
       "</style><div class='table-result-container'><table class='table-result'><thead style='background-color: white'><tr><th>GEO</th><th>Cannabis_price</th><th>Units_of_measure</th><th>CaS_UOM</th><th>CaS_UOM_ID</th><th>CaS_Scalar_Factor</th><th>Estimate</th><th>income_Industry</th><th>income_UOM</th><th>income_UOM_ID</th><th>income_Scalar_Factor</th><th>LicensedIndustryStats_Indicator</th><th>LicensedIndustryStats_UOM</th><th>LicensedIndustryStats_UOM_ID</th><th>LicensedIndustryStats_Scalar_Factor</th></tr></thead><tbody><tr><td>Canada</td><td>Consumer price</td><td>Price per gram</td><td>Dollars</td><td>81</td><td>units </td><td>Taxes less subsidies</td><td>Non-medical cannabis industry</td><td>Dollars</td><td>81</td><td>millions</td><td>Producer price per gram</td><td>Dollars</td><td>81</td><td>units </td></tr><tr><td>Canada</td><td>Consumer price</td><td>Price per gram</td><td>Dollars</td><td>81</td><td>units </td><td>Taxes less subsidies</td><td>Non-medical cannabis industry</td><td>Dollars</td><td>81</td><td>millions</td><td>Registered clients</td><td>Number</td><td>223</td><td>units </td></tr><tr><td>Canada</td><td>Consumer price</td><td>Price per gram</td><td>Dollars</td><td>81</td><td>units </td><td>Taxes less subsidies</td><td>Non-medical cannabis industry</td><td>Dollars</td><td>81</td><td>millions</td><td>Number of cannabis for medical use licences issued</td><td>Number</td><td>223</td><td>units </td></tr><tr><td>Canada</td><td>Consumer price</td><td>Price per gram</td><td>Dollars</td><td>81</td><td>units </td><td>Taxes less subsidies</td><td>Non-medical cannabis industry</td><td>Dollars</td><td>81</td><td>millions</td><td>Shipments to registered clients</td><td>Number</td><td>223</td><td>units </td></tr><tr><td>Canada</td><td>Consumer price</td><td>Price per gram</td><td>Dollars</td><td>81</td><td>units </td><td>Taxes less subsidies</td><td>Non-medical cannabis industry</td><td>Dollars</td><td>81</td><td>millions</td><td>Average amount of dried  cannabis for medical use per client shipment</td><td>Grams per day</td><td>380</td><td>units </td></tr></tbody></table></div>"
      ]
     },
     "metadata": {
      "application/vnd.databricks.v1+output": {
       "addedWidgets": {},
       "aggData": [],
       "aggError": "",
       "aggOverflow": false,
       "aggSchema": [],
       "aggSeriesLimitReached": false,
       "aggType": "",
       "arguments": {},
       "columnCustomDisplayInfos": {},
       "data": [
        [
         "Canada",
         "Consumer price",
         "Price per gram",
         "Dollars",
         81,
         "units ",
         "Taxes less subsidies",
         "Non-medical cannabis industry",
         "Dollars",
         81,
         "millions",
         "Producer price per gram",
         "Dollars",
         81,
         "units "
        ],
        [
         "Canada",
         "Consumer price",
         "Price per gram",
         "Dollars",
         81,
         "units ",
         "Taxes less subsidies",
         "Non-medical cannabis industry",
         "Dollars",
         81,
         "millions",
         "Registered clients",
         "Number",
         223,
         "units "
        ],
        [
         "Canada",
         "Consumer price",
         "Price per gram",
         "Dollars",
         81,
         "units ",
         "Taxes less subsidies",
         "Non-medical cannabis industry",
         "Dollars",
         81,
         "millions",
         "Number of cannabis for medical use licences issued",
         "Number",
         223,
         "units "
        ],
        [
         "Canada",
         "Consumer price",
         "Price per gram",
         "Dollars",
         81,
         "units ",
         "Taxes less subsidies",
         "Non-medical cannabis industry",
         "Dollars",
         81,
         "millions",
         "Shipments to registered clients",
         "Number",
         223,
         "units "
        ],
        [
         "Canada",
         "Consumer price",
         "Price per gram",
         "Dollars",
         81,
         "units ",
         "Taxes less subsidies",
         "Non-medical cannabis industry",
         "Dollars",
         81,
         "millions",
         "Average amount of dried  cannabis for medical use per client shipment",
         "Grams per day",
         380,
         "units "
        ]
       ],
       "datasetInfos": [],
       "dbfsResultPath": null,
       "isJsonSchema": true,
       "metadata": {},
       "overflow": false,
       "plotOptions": {
        "customPlotOptions": {},
        "displayType": "table",
        "pivotAggregation": null,
        "pivotColumns": null,
        "xColumns": null,
        "yColumns": null
       },
       "removedWidgets": [],
       "schema": [
        {
         "metadata": "{}",
         "name": "GEO",
         "type": "\"string\""
        },
        {
         "metadata": "{}",
         "name": "Cannabis_price",
         "type": "\"string\""
        },
        {
         "metadata": "{}",
         "name": "Units_of_measure",
         "type": "\"string\""
        },
        {
         "metadata": "{}",
         "name": "CaS_UOM",
         "type": "\"string\""
        },
        {
         "metadata": "{}",
         "name": "CaS_UOM_ID",
         "type": "\"integer\""
        },
        {
         "metadata": "{}",
         "name": "CaS_Scalar_Factor",
         "type": "\"string\""
        },
        {
         "metadata": "{\"scale\":0}",
         "name": "Estimate",
         "type": "\"string\""
        },
        {
         "metadata": "{\"scale\":0}",
         "name": "income_Industry",
         "type": "\"string\""
        },
        {
         "metadata": "{\"scale\":0}",
         "name": "income_UOM",
         "type": "\"string\""
        },
        {
         "metadata": "{\"scale\":0}",
         "name": "income_UOM_ID",
         "type": "\"long\""
        },
        {
         "metadata": "{\"scale\":0}",
         "name": "income_Scalar_Factor",
         "type": "\"string\""
        },
        {
         "metadata": "{\"scale\":0}",
         "name": "LicensedIndustryStats_Indicator",
         "type": "\"string\""
        },
        {
         "metadata": "{\"scale\":0}",
         "name": "LicensedIndustryStats_UOM",
         "type": "\"string\""
        },
        {
         "metadata": "{\"scale\":0}",
         "name": "LicensedIndustryStats_UOM_ID",
         "type": "\"long\""
        },
        {
         "metadata": "{\"scale\":0}",
         "name": "LicensedIndustryStats_Scalar_Factor",
         "type": "\"string\""
        }
       ],
       "type": "table"
      }
     },
     "output_type": "display_data"
    }
   ],
   "source": [
    "%sql\n",
    "SELECT * FROM `fact_cannabis_silver`\n",
    "LIMIT 5;"
   ]
  },
  {
   "cell_type": "markdown",
   "metadata": {
    "application/vnd.databricks.v1+cell": {
     "cellMetadata": {},
     "inputWidgets": {},
     "nuid": "dfa23578-cc34-4d3d-a903-609dcc53c0b6",
     "showTitle": false,
     "title": ""
    }
   },
   "source": [
    "## Now to Build a Gold Table"
   ]
  },
  {
   "cell_type": "code",
   "execution_count": 0,
   "metadata": {
    "application/vnd.databricks.v1+cell": {
     "cellMetadata": {
      "byteLimit": 2048000,
      "implicitDf": true,
      "rowLimit": 10000
     },
     "inputWidgets": {},
     "nuid": "41f1abbf-de77-4426-92ca-547db6688a0f",
     "showTitle": false,
     "title": ""
    }
   },
   "outputs": [
    {
     "output_type": "display_data",
     "data": {
      "text/html": [
       "<style scoped>\n",
       "  .table-result-container {\n",
       "    max-height: 300px;\n",
       "    overflow: auto;\n",
       "  }\n",
       "  table, th, td {\n",
       "    border: 1px solid black;\n",
       "    border-collapse: collapse;\n",
       "  }\n",
       "  th, td {\n",
       "    padding: 5px;\n",
       "  }\n",
       "  th {\n",
       "    text-align: left;\n",
       "  }\n",
       "</style><div class='table-result-container'><table class='table-result'><thead style='background-color: white'><tr><th>GEO</th><th>Cannabis_price</th><th>Units_of_measure</th><th>CaS_UOM</th><th>CaS_UOM_ID</th><th>CaS_Scalar_Factor</th><th>Estimate</th><th>income_Industry</th><th>income_UOM</th><th>income_UOM_ID</th><th>income_Scalar_Factor</th><th>LicensedIndustryStats_Indicator</th><th>LicensedIndustryStats_UOM</th><th>LicensedIndustryStats_UOM_ID</th><th>LicensedIndustryStats_Scalar_Factor</th></tr></thead><tbody><tr><td>Canada</td><td>Consumer price</td><td>Price per gram</td><td>Dollars</td><td>81</td><td>units </td><td>Taxes less subsidies</td><td>Non-medical cannabis industry</td><td>Dollars</td><td>81</td><td>millions</td><td>Producer price per gram</td><td>Dollars</td><td>81</td><td>units </td></tr><tr><td>Canada</td><td>Consumer price</td><td>Price per gram</td><td>Dollars</td><td>81</td><td>units </td><td>Taxes less subsidies</td><td>Non-medical cannabis industry</td><td>Dollars</td><td>81</td><td>millions</td><td>Registered clients</td><td>Number</td><td>223</td><td>units </td></tr><tr><td>Canada</td><td>Consumer price</td><td>Price per gram</td><td>Dollars</td><td>81</td><td>units </td><td>Taxes less subsidies</td><td>Non-medical cannabis industry</td><td>Dollars</td><td>81</td><td>millions</td><td>Number of cannabis for medical use licences issued</td><td>Number</td><td>223</td><td>units </td></tr><tr><td>Canada</td><td>Consumer price</td><td>Price per gram</td><td>Dollars</td><td>81</td><td>units </td><td>Taxes less subsidies</td><td>Non-medical cannabis industry</td><td>Dollars</td><td>81</td><td>millions</td><td>Shipments to registered clients</td><td>Number</td><td>223</td><td>units </td></tr><tr><td>Canada</td><td>Consumer price</td><td>Price per gram</td><td>Dollars</td><td>81</td><td>units </td><td>Taxes less subsidies</td><td>Non-medical cannabis industry</td><td>Dollars</td><td>81</td><td>millions</td><td>Average amount of dried  cannabis for medical use per client shipment</td><td>Grams per day</td><td>380</td><td>units </td></tr></tbody></table></div>"
      ]
     },
     "metadata": {
      "application/vnd.databricks.v1+output": {
       "addedWidgets": {},
       "aggData": [],
       "aggError": "",
       "aggOverflow": false,
       "aggSchema": [],
       "aggSeriesLimitReached": false,
       "aggType": "",
       "arguments": {},
       "columnCustomDisplayInfos": {},
       "data": [
        [
         "Canada",
         "Consumer price",
         "Price per gram",
         "Dollars",
         81,
         "units ",
         "Taxes less subsidies",
         "Non-medical cannabis industry",
         "Dollars",
         81,
         "millions",
         "Producer price per gram",
         "Dollars",
         81,
         "units "
        ],
        [
         "Canada",
         "Consumer price",
         "Price per gram",
         "Dollars",
         81,
         "units ",
         "Taxes less subsidies",
         "Non-medical cannabis industry",
         "Dollars",
         81,
         "millions",
         "Registered clients",
         "Number",
         223,
         "units "
        ],
        [
         "Canada",
         "Consumer price",
         "Price per gram",
         "Dollars",
         81,
         "units ",
         "Taxes less subsidies",
         "Non-medical cannabis industry",
         "Dollars",
         81,
         "millions",
         "Number of cannabis for medical use licences issued",
         "Number",
         223,
         "units "
        ],
        [
         "Canada",
         "Consumer price",
         "Price per gram",
         "Dollars",
         81,
         "units ",
         "Taxes less subsidies",
         "Non-medical cannabis industry",
         "Dollars",
         81,
         "millions",
         "Shipments to registered clients",
         "Number",
         223,
         "units "
        ],
        [
         "Canada",
         "Consumer price",
         "Price per gram",
         "Dollars",
         81,
         "units ",
         "Taxes less subsidies",
         "Non-medical cannabis industry",
         "Dollars",
         81,
         "millions",
         "Average amount of dried  cannabis for medical use per client shipment",
         "Grams per day",
         380,
         "units "
        ]
       ],
       "datasetInfos": [],
       "dbfsResultPath": null,
       "isJsonSchema": true,
       "metadata": {},
       "overflow": false,
       "plotOptions": {
        "customPlotOptions": {},
        "displayType": "table",
        "pivotAggregation": null,
        "pivotColumns": null,
        "xColumns": null,
        "yColumns": null
       },
       "removedWidgets": [],
       "schema": [
        {
         "metadata": "{}",
         "name": "GEO",
         "type": "\"string\""
        },
        {
         "metadata": "{}",
         "name": "Cannabis_price",
         "type": "\"string\""
        },
        {
         "metadata": "{}",
         "name": "Units_of_measure",
         "type": "\"string\""
        },
        {
         "metadata": "{}",
         "name": "CaS_UOM",
         "type": "\"string\""
        },
        {
         "metadata": "{}",
         "name": "CaS_UOM_ID",
         "type": "\"integer\""
        },
        {
         "metadata": "{}",
         "name": "CaS_Scalar_Factor",
         "type": "\"string\""
        },
        {
         "metadata": "{\"scale\":0}",
         "name": "Estimate",
         "type": "\"string\""
        },
        {
         "metadata": "{\"scale\":0}",
         "name": "income_Industry",
         "type": "\"string\""
        },
        {
         "metadata": "{\"scale\":0}",
         "name": "income_UOM",
         "type": "\"string\""
        },
        {
         "metadata": "{\"scale\":0}",
         "name": "income_UOM_ID",
         "type": "\"long\""
        },
        {
         "metadata": "{\"scale\":0}",
         "name": "income_Scalar_Factor",
         "type": "\"string\""
        },
        {
         "metadata": "{\"scale\":0}",
         "name": "LicensedIndustryStats_Indicator",
         "type": "\"string\""
        },
        {
         "metadata": "{\"scale\":0}",
         "name": "LicensedIndustryStats_UOM",
         "type": "\"string\""
        },
        {
         "metadata": "{\"scale\":0}",
         "name": "LicensedIndustryStats_UOM_ID",
         "type": "\"long\""
        },
        {
         "metadata": "{\"scale\":0}",
         "name": "LicensedIndustryStats_Scalar_Factor",
         "type": "\"string\""
        }
       ],
       "type": "table"
      }
     },
     "output_type": "display_data"
    }
   ],
   "source": [
    "%sql\n",
    "-- example one\n",
    "SELECT * FROM fact_cannabis_silver\n",
    "WHERE fact_cannabis_silver.GEO = \"Canada\"\n",
    "LIMIT 5;"
   ]
  },
  {
   "cell_type": "code",
   "execution_count": 0,
   "metadata": {
    "application/vnd.databricks.v1+cell": {
     "cellMetadata": {
      "byteLimit": 2048000,
      "implicitDf": true,
      "rowLimit": 10000
     },
     "inputWidgets": {},
     "nuid": "d4653099-a935-4234-af09-20daf892ff7e",
     "showTitle": false,
     "title": ""
    }
   },
   "outputs": [
    {
     "output_type": "display_data",
     "data": {
      "text/html": [
       "<style scoped>\n",
       "  .table-result-container {\n",
       "    max-height: 300px;\n",
       "    overflow: auto;\n",
       "  }\n",
       "  table, th, td {\n",
       "    border: 1px solid black;\n",
       "    border-collapse: collapse;\n",
       "  }\n",
       "  th, td {\n",
       "    padding: 5px;\n",
       "  }\n",
       "  th {\n",
       "    text-align: left;\n",
       "  }\n",
       "</style><div class='table-result-container'><table class='table-result'><thead style='background-color: white'><tr><th>GEO</th><th>Cannabis_price</th><th>Units_of_measure</th><th>CaS_UOM</th><th>CaS_UOM_ID</th><th>CaS_Scalar_Factor</th><th>Estimate</th><th>income_Industry</th><th>income_UOM</th><th>income_UOM_ID</th><th>income_Scalar_Factor</th><th>LicensedIndustryStats_Indicator</th><th>LicensedIndustryStats_UOM</th><th>LicensedIndustryStats_UOM_ID</th><th>LicensedIndustryStats_Scalar_Factor</th></tr></thead><tbody><tr><td>Canada</td><td>Consumer price</td><td>Price per gram</td><td>Dollars</td><td>81</td><td>units </td><td>Taxes less subsidies</td><td>Non-medical cannabis industry</td><td>Dollars</td><td>81</td><td>millions</td><td>Producer price per gram</td><td>Dollars</td><td>81</td><td>units </td></tr><tr><td>Canada</td><td>Consumer price</td><td>Price per gram</td><td>Dollars</td><td>81</td><td>units </td><td>Taxes less subsidies</td><td>Non-medical cannabis industry</td><td>Dollars</td><td>81</td><td>millions</td><td>Registered clients</td><td>Number</td><td>223</td><td>units </td></tr><tr><td>Canada</td><td>Consumer price</td><td>Price per gram</td><td>Dollars</td><td>81</td><td>units </td><td>Taxes less subsidies</td><td>Non-medical cannabis industry</td><td>Dollars</td><td>81</td><td>millions</td><td>Number of cannabis for medical use licences issued</td><td>Number</td><td>223</td><td>units </td></tr><tr><td>Canada</td><td>Consumer price</td><td>Price per gram</td><td>Dollars</td><td>81</td><td>units </td><td>Taxes less subsidies</td><td>Non-medical cannabis industry</td><td>Dollars</td><td>81</td><td>millions</td><td>Shipments to registered clients</td><td>Number</td><td>223</td><td>units </td></tr><tr><td>Canada</td><td>Consumer price</td><td>Price per gram</td><td>Dollars</td><td>81</td><td>units </td><td>Taxes less subsidies</td><td>Non-medical cannabis industry</td><td>Dollars</td><td>81</td><td>millions</td><td>Average amount of dried  cannabis for medical use per client shipment</td><td>Grams per day</td><td>380</td><td>units </td></tr></tbody></table></div>"
      ]
     },
     "metadata": {
      "application/vnd.databricks.v1+output": {
       "addedWidgets": {},
       "aggData": [],
       "aggError": "",
       "aggOverflow": false,
       "aggSchema": [],
       "aggSeriesLimitReached": false,
       "aggType": "",
       "arguments": {},
       "columnCustomDisplayInfos": {},
       "data": [
        [
         "Canada",
         "Consumer price",
         "Price per gram",
         "Dollars",
         81,
         "units ",
         "Taxes less subsidies",
         "Non-medical cannabis industry",
         "Dollars",
         81,
         "millions",
         "Producer price per gram",
         "Dollars",
         81,
         "units "
        ],
        [
         "Canada",
         "Consumer price",
         "Price per gram",
         "Dollars",
         81,
         "units ",
         "Taxes less subsidies",
         "Non-medical cannabis industry",
         "Dollars",
         81,
         "millions",
         "Registered clients",
         "Number",
         223,
         "units "
        ],
        [
         "Canada",
         "Consumer price",
         "Price per gram",
         "Dollars",
         81,
         "units ",
         "Taxes less subsidies",
         "Non-medical cannabis industry",
         "Dollars",
         81,
         "millions",
         "Number of cannabis for medical use licences issued",
         "Number",
         223,
         "units "
        ],
        [
         "Canada",
         "Consumer price",
         "Price per gram",
         "Dollars",
         81,
         "units ",
         "Taxes less subsidies",
         "Non-medical cannabis industry",
         "Dollars",
         81,
         "millions",
         "Shipments to registered clients",
         "Number",
         223,
         "units "
        ],
        [
         "Canada",
         "Consumer price",
         "Price per gram",
         "Dollars",
         81,
         "units ",
         "Taxes less subsidies",
         "Non-medical cannabis industry",
         "Dollars",
         81,
         "millions",
         "Average amount of dried  cannabis for medical use per client shipment",
         "Grams per day",
         380,
         "units "
        ]
       ],
       "datasetInfos": [],
       "dbfsResultPath": null,
       "isJsonSchema": true,
       "metadata": {},
       "overflow": false,
       "plotOptions": {
        "customPlotOptions": {},
        "displayType": "table",
        "pivotAggregation": null,
        "pivotColumns": null,
        "xColumns": null,
        "yColumns": null
       },
       "removedWidgets": [],
       "schema": [
        {
         "metadata": "{}",
         "name": "GEO",
         "type": "\"string\""
        },
        {
         "metadata": "{}",
         "name": "Cannabis_price",
         "type": "\"string\""
        },
        {
         "metadata": "{}",
         "name": "Units_of_measure",
         "type": "\"string\""
        },
        {
         "metadata": "{}",
         "name": "CaS_UOM",
         "type": "\"string\""
        },
        {
         "metadata": "{}",
         "name": "CaS_UOM_ID",
         "type": "\"integer\""
        },
        {
         "metadata": "{}",
         "name": "CaS_Scalar_Factor",
         "type": "\"string\""
        },
        {
         "metadata": "{\"scale\":0}",
         "name": "Estimate",
         "type": "\"string\""
        },
        {
         "metadata": "{\"scale\":0}",
         "name": "income_Industry",
         "type": "\"string\""
        },
        {
         "metadata": "{\"scale\":0}",
         "name": "income_UOM",
         "type": "\"string\""
        },
        {
         "metadata": "{\"scale\":0}",
         "name": "income_UOM_ID",
         "type": "\"long\""
        },
        {
         "metadata": "{\"scale\":0}",
         "name": "income_Scalar_Factor",
         "type": "\"string\""
        },
        {
         "metadata": "{\"scale\":0}",
         "name": "LicensedIndustryStats_Indicator",
         "type": "\"string\""
        },
        {
         "metadata": "{\"scale\":0}",
         "name": "LicensedIndustryStats_UOM",
         "type": "\"string\""
        },
        {
         "metadata": "{\"scale\":0}",
         "name": "LicensedIndustryStats_UOM_ID",
         "type": "\"long\""
        },
        {
         "metadata": "{\"scale\":0}",
         "name": "LicensedIndustryStats_Scalar_Factor",
         "type": "\"string\""
        }
       ],
       "type": "table"
      }
     },
     "output_type": "display_data"
    }
   ],
   "source": [
    "%sql\n",
    "-- example two\n",
    "\n",
    "SELECT * FROM fact_cannabis_silver\n",
    "WHERE income_Scalar_Factor = \"millions\"\n",
    "AND income_industry=\"Non-medical cannabis industry\"\n",
    "LIMIT 5;"
   ]
  },
  {
   "cell_type": "markdown",
   "metadata": {
    "application/vnd.databricks.v1+cell": {
     "cellMetadata": {},
     "inputWidgets": {},
     "nuid": "7ad7620d-5001-463d-a181-079be30153a2",
     "showTitle": false,
     "title": ""
    }
   },
   "source": [
    "## Getting the fact table back into SQL and Mongo:"
   ]
  },
  {
   "cell_type": "code",
   "execution_count": 0,
   "metadata": {
    "application/vnd.databricks.v1+cell": {
     "cellMetadata": {
      "byteLimit": 2048000,
      "rowLimit": 10000
     },
     "inputWidgets": {},
     "nuid": "6e948d51-fe86-43b9-9f32-7c569be10cef",
     "showTitle": false,
     "title": ""
    }
   },
   "outputs": [],
   "source": [
    "df = spark.read.table(\"fact_cannabis_silver\")"
   ]
  },
  {
   "cell_type": "code",
   "execution_count": 0,
   "metadata": {
    "application/vnd.databricks.v1+cell": {
     "cellMetadata": {
      "byteLimit": 2048000,
      "rowLimit": 10000
     },
     "inputWidgets": {},
     "nuid": "321cae4d-e198-4988-b027-103e47058b02",
     "showTitle": false,
     "title": ""
    }
   },
   "outputs": [],
   "source": [
    "df_pandas = df.toPandas()"
   ]
  },
  {
   "cell_type": "code",
   "execution_count": 0,
   "metadata": {
    "application/vnd.databricks.v1+cell": {
     "cellMetadata": {
      "byteLimit": 2048000,
      "rowLimit": 10000
     },
     "inputWidgets": {},
     "nuid": "c0f26d60-2c81-4bb4-b4f1-47ffe7a501ce",
     "showTitle": false,
     "title": ""
    }
   },
   "outputs": [
    {
     "output_type": "display_data",
     "data": {
      "text/html": [
       "<div>\n",
       "<style scoped>\n",
       "    .dataframe tbody tr th:only-of-type {\n",
       "        vertical-align: middle;\n",
       "    }\n",
       "\n",
       "    .dataframe tbody tr th {\n",
       "        vertical-align: top;\n",
       "    }\n",
       "\n",
       "    .dataframe thead th {\n",
       "        text-align: right;\n",
       "    }\n",
       "</style>\n",
       "<table border=\"1\" class=\"dataframe\">\n",
       "  <thead>\n",
       "    <tr style=\"text-align: right;\">\n",
       "      <th></th>\n",
       "      <th>GEO</th>\n",
       "      <th>Cannabis_price</th>\n",
       "      <th>Units_of_measure</th>\n",
       "      <th>CaS_UOM</th>\n",
       "      <th>CaS_UOM_ID</th>\n",
       "      <th>CaS_Scalar_Factor</th>\n",
       "      <th>Estimate</th>\n",
       "      <th>income_Industry</th>\n",
       "      <th>income_UOM</th>\n",
       "      <th>income_UOM_ID</th>\n",
       "      <th>income_Scalar_Factor</th>\n",
       "      <th>LicensedIndustryStats_Indicator</th>\n",
       "      <th>LicensedIndustryStats_UOM</th>\n",
       "      <th>LicensedIndustryStats_UOM_ID</th>\n",
       "      <th>LicensedIndustryStats_Scalar_Factor</th>\n",
       "    </tr>\n",
       "  </thead>\n",
       "  <tbody>\n",
       "    <tr>\n",
       "      <th>0</th>\n",
       "      <td>Canada</td>\n",
       "      <td>Consumer price</td>\n",
       "      <td>Price per gram</td>\n",
       "      <td>Dollars</td>\n",
       "      <td>81</td>\n",
       "      <td>units</td>\n",
       "      <td>Taxes less subsidies</td>\n",
       "      <td>Non-medical cannabis industry</td>\n",
       "      <td>Dollars</td>\n",
       "      <td>81</td>\n",
       "      <td>millions</td>\n",
       "      <td>Producer price per gram</td>\n",
       "      <td>Dollars</td>\n",
       "      <td>81</td>\n",
       "      <td>units</td>\n",
       "    </tr>\n",
       "    <tr>\n",
       "      <th>1</th>\n",
       "      <td>Canada</td>\n",
       "      <td>Consumer price</td>\n",
       "      <td>Price per gram</td>\n",
       "      <td>Dollars</td>\n",
       "      <td>81</td>\n",
       "      <td>units</td>\n",
       "      <td>Taxes less subsidies</td>\n",
       "      <td>Non-medical cannabis industry</td>\n",
       "      <td>Dollars</td>\n",
       "      <td>81</td>\n",
       "      <td>millions</td>\n",
       "      <td>Registered clients</td>\n",
       "      <td>Number</td>\n",
       "      <td>223</td>\n",
       "      <td>units</td>\n",
       "    </tr>\n",
       "    <tr>\n",
       "      <th>2</th>\n",
       "      <td>Canada</td>\n",
       "      <td>Consumer price</td>\n",
       "      <td>Price per gram</td>\n",
       "      <td>Dollars</td>\n",
       "      <td>81</td>\n",
       "      <td>units</td>\n",
       "      <td>Taxes less subsidies</td>\n",
       "      <td>Non-medical cannabis industry</td>\n",
       "      <td>Dollars</td>\n",
       "      <td>81</td>\n",
       "      <td>millions</td>\n",
       "      <td>Number of cannabis for medical use licences is...</td>\n",
       "      <td>Number</td>\n",
       "      <td>223</td>\n",
       "      <td>units</td>\n",
       "    </tr>\n",
       "    <tr>\n",
       "      <th>3</th>\n",
       "      <td>Canada</td>\n",
       "      <td>Consumer price</td>\n",
       "      <td>Price per gram</td>\n",
       "      <td>Dollars</td>\n",
       "      <td>81</td>\n",
       "      <td>units</td>\n",
       "      <td>Taxes less subsidies</td>\n",
       "      <td>Non-medical cannabis industry</td>\n",
       "      <td>Dollars</td>\n",
       "      <td>81</td>\n",
       "      <td>millions</td>\n",
       "      <td>Shipments to registered clients</td>\n",
       "      <td>Number</td>\n",
       "      <td>223</td>\n",
       "      <td>units</td>\n",
       "    </tr>\n",
       "    <tr>\n",
       "      <th>4</th>\n",
       "      <td>Canada</td>\n",
       "      <td>Consumer price</td>\n",
       "      <td>Price per gram</td>\n",
       "      <td>Dollars</td>\n",
       "      <td>81</td>\n",
       "      <td>units</td>\n",
       "      <td>Taxes less subsidies</td>\n",
       "      <td>Non-medical cannabis industry</td>\n",
       "      <td>Dollars</td>\n",
       "      <td>81</td>\n",
       "      <td>millions</td>\n",
       "      <td>Average amount of dried  cannabis for medical ...</td>\n",
       "      <td>Grams per day</td>\n",
       "      <td>380</td>\n",
       "      <td>units</td>\n",
       "    </tr>\n",
       "  </tbody>\n",
       "</table>\n",
       "</div>"
      ]
     },
     "metadata": {
      "application/vnd.databricks.v1+output": {
       "addedWidgets": {},
       "arguments": {},
       "data": "<div>\n<style scoped>\n    .dataframe tbody tr th:only-of-type {\n        vertical-align: middle;\n    }\n\n    .dataframe tbody tr th {\n        vertical-align: top;\n    }\n\n    .dataframe thead th {\n        text-align: right;\n    }\n</style>\n<table border=\"1\" class=\"dataframe\">\n  <thead>\n    <tr style=\"text-align: right;\">\n      <th></th>\n      <th>GEO</th>\n      <th>Cannabis_price</th>\n      <th>Units_of_measure</th>\n      <th>CaS_UOM</th>\n      <th>CaS_UOM_ID</th>\n      <th>CaS_Scalar_Factor</th>\n      <th>Estimate</th>\n      <th>income_Industry</th>\n      <th>income_UOM</th>\n      <th>income_UOM_ID</th>\n      <th>income_Scalar_Factor</th>\n      <th>LicensedIndustryStats_Indicator</th>\n      <th>LicensedIndustryStats_UOM</th>\n      <th>LicensedIndustryStats_UOM_ID</th>\n      <th>LicensedIndustryStats_Scalar_Factor</th>\n    </tr>\n  </thead>\n  <tbody>\n    <tr>\n      <th>0</th>\n      <td>Canada</td>\n      <td>Consumer price</td>\n      <td>Price per gram</td>\n      <td>Dollars</td>\n      <td>81</td>\n      <td>units</td>\n      <td>Taxes less subsidies</td>\n      <td>Non-medical cannabis industry</td>\n      <td>Dollars</td>\n      <td>81</td>\n      <td>millions</td>\n      <td>Producer price per gram</td>\n      <td>Dollars</td>\n      <td>81</td>\n      <td>units</td>\n    </tr>\n    <tr>\n      <th>1</th>\n      <td>Canada</td>\n      <td>Consumer price</td>\n      <td>Price per gram</td>\n      <td>Dollars</td>\n      <td>81</td>\n      <td>units</td>\n      <td>Taxes less subsidies</td>\n      <td>Non-medical cannabis industry</td>\n      <td>Dollars</td>\n      <td>81</td>\n      <td>millions</td>\n      <td>Registered clients</td>\n      <td>Number</td>\n      <td>223</td>\n      <td>units</td>\n    </tr>\n    <tr>\n      <th>2</th>\n      <td>Canada</td>\n      <td>Consumer price</td>\n      <td>Price per gram</td>\n      <td>Dollars</td>\n      <td>81</td>\n      <td>units</td>\n      <td>Taxes less subsidies</td>\n      <td>Non-medical cannabis industry</td>\n      <td>Dollars</td>\n      <td>81</td>\n      <td>millions</td>\n      <td>Number of cannabis for medical use licences is...</td>\n      <td>Number</td>\n      <td>223</td>\n      <td>units</td>\n    </tr>\n    <tr>\n      <th>3</th>\n      <td>Canada</td>\n      <td>Consumer price</td>\n      <td>Price per gram</td>\n      <td>Dollars</td>\n      <td>81</td>\n      <td>units</td>\n      <td>Taxes less subsidies</td>\n      <td>Non-medical cannabis industry</td>\n      <td>Dollars</td>\n      <td>81</td>\n      <td>millions</td>\n      <td>Shipments to registered clients</td>\n      <td>Number</td>\n      <td>223</td>\n      <td>units</td>\n    </tr>\n    <tr>\n      <th>4</th>\n      <td>Canada</td>\n      <td>Consumer price</td>\n      <td>Price per gram</td>\n      <td>Dollars</td>\n      <td>81</td>\n      <td>units</td>\n      <td>Taxes less subsidies</td>\n      <td>Non-medical cannabis industry</td>\n      <td>Dollars</td>\n      <td>81</td>\n      <td>millions</td>\n      <td>Average amount of dried  cannabis for medical ...</td>\n      <td>Grams per day</td>\n      <td>380</td>\n      <td>units</td>\n    </tr>\n  </tbody>\n</table>\n</div>",
       "datasetInfos": [],
       "metadata": {},
       "removedWidgets": [],
       "textData": null,
       "type": "htmlSandbox"
      }
     },
     "output_type": "display_data"
    }
   ],
   "source": [
    "df_pandas.head()"
   ]
  },
  {
   "cell_type": "markdown",
   "metadata": {
    "application/vnd.databricks.v1+cell": {
     "cellMetadata": {},
     "inputWidgets": {},
     "nuid": "7eba2429-1d6b-4b50-b190-f59d2648ae8e",
     "showTitle": false,
     "title": ""
    }
   },
   "source": [
    "## I now have the Table as a DataFrame and can use the methods from the Jupyter Noteook, I will first create connection string information"
   ]
  },
  {
   "cell_type": "code",
   "execution_count": 0,
   "metadata": {
    "application/vnd.databricks.v1+cell": {
     "cellMetadata": {
      "byteLimit": 2048000,
      "rowLimit": 10000
     },
     "inputWidgets": {},
     "nuid": "d6b6a027-3681-4d14-b093-66793e921f0a",
     "showTitle": false,
     "title": ""
    }
   },
   "outputs": [],
   "source": [
    "#SQL:\n",
    "host_name = \"wfl9zymysql.mysql.database.azure.com\" # the host name\n",
    "user_id = \"wloving77\" # the user id of the account\n",
    "pwd = os.environ[\"PWD\"] # an environment variable invisible as I delete the cell after creating it. \n",
    "db_name_sql = \"ds2002-Midterm2\"\n",
    "\n",
    "conn_str_sql = f\"mysql+pymysql://{user_id}:{pwd}@{host_name}\"\n",
    "\n"
   ]
  },
  {
   "cell_type": "code",
   "execution_count": 0,
   "metadata": {
    "application/vnd.databricks.v1+cell": {
     "cellMetadata": {
      "byteLimit": 2048000,
      "rowLimit": 10000
     },
     "inputWidgets": {},
     "nuid": "c8c72719-3653-4a7f-9ef6-d65766694654",
     "showTitle": false,
     "title": ""
    }
   },
   "outputs": [],
   "source": [
    "#MongoDB:\n",
    "atlas_cluster_name = \"dscluster\"\n",
    "atlas_user_name = \"wloving77\"\n",
    "atlas_password = os.environ[\"PWD\"] # omitted the cell defining this variable for password security. \n",
    "atlas_special_key = \"iynrpaa\"\n",
    "\n",
    "db_name_mongo = \"ds2002-Midterm2\"\n",
    "\n",
    "\n",
    "conn_str_mongo = f\"mongodb+srv://{atlas_user_name}:{atlas_password}@{atlas_cluster_name}.{atlas_special_key}.mongodb.net\""
   ]
  },
  {
   "cell_type": "code",
   "execution_count": 0,
   "metadata": {
    "application/vnd.databricks.v1+cell": {
     "cellMetadata": {
      "byteLimit": 2048000,
      "rowLimit": 10000
     },
     "inputWidgets": {},
     "nuid": "9dcf684c-6864-4680-9115-410403233138",
     "showTitle": false,
     "title": ""
    }
   },
   "outputs": [],
   "source": [
    "#Function for creating a table on a SQL server\n",
    "def set_dataframe(conn_str, df, table_name, db_name, db_operation):\n",
    "    \n",
    "    '''Create a connection to SQL'''\n",
    "    sqlEngine = create_engine(conn_str, pool_recycle=360)\n",
    "    connection = sqlEngine.connect()\n",
    "        \n",
    "    if db_operation == \"insert\":\n",
    "        df.to_sql(table_name, schema = db_name, con = sqlEngine, index=False, if_exists='replace')\n",
    "            \n",
    "    elif db_operation == \"update\":\n",
    "        df.to_sql(table_name, schema=db_name,con=connection, index=False, if_exists='append')\n",
    "    \n",
    "    connection.close()"
   ]
  },
  {
   "cell_type": "code",
   "execution_count": 0,
   "metadata": {
    "application/vnd.databricks.v1+cell": {
     "cellMetadata": {
      "byteLimit": 2048000,
      "rowLimit": 10000
     },
     "inputWidgets": {},
     "nuid": "8e61a229-4b7a-4a5b-ac58-72e00d3f17d1",
     "showTitle": false,
     "title": ""
    }
   },
   "outputs": [],
   "source": [
    "#My function that sets a mongodb collection to be the provided dataframe\n",
    "def set_mongo_dataframe(connection_str, df, db_name, collection):\n",
    "        client = pymongo.MongoClient(connection_str)\n",
    "        db = client[db_name]\n",
    "        db[collection].insert_many(df.to_dict('records'))\n",
    "        client.close()"
   ]
  },
  {
   "cell_type": "markdown",
   "metadata": {
    "application/vnd.databricks.v1+cell": {
     "cellMetadata": {},
     "inputWidgets": {},
     "nuid": "7d3304e0-3108-443c-a4f8-6eafdae0228e",
     "showTitle": false,
     "title": ""
    }
   },
   "source": [
    "### Now to send both tables to mongo and sql:"
   ]
  },
  {
   "cell_type": "code",
   "execution_count": 0,
   "metadata": {
    "application/vnd.databricks.v1+cell": {
     "cellMetadata": {},
     "inputWidgets": {},
     "nuid": "5e7f7dde-6c30-49e9-9836-3a7dcac46bf4",
     "showTitle": false,
     "title": ""
    }
   },
   "outputs": [],
   "source": [
    "set_dataframe(conn_str_sql, df_pandas, \"fact_cannabis\", db_name_sql, \"insert\")\n",
    "set_mongo_dataframe(conn_str_mongo, df_pandas, db_name_mongo, \"fact_cannabis\")"
   ]
  }
 ],
 "metadata": {
  "application/vnd.databricks.v1+notebook": {
   "dashboards": [],
   "language": "python",
   "notebookMetadata": {
    "mostRecentlyExecutedCommandWithImplicitDF": {
     "commandId": 1575375665397011,
     "dataframes": [
      "_sqldf"
     ]
    },
    "pythonIndentUnit": 4
   },
   "notebookName": "structured_streaming",
   "notebookOrigID": 136468960276291,
   "widgets": {}
  }
 },
 "nbformat": 4,
 "nbformat_minor": 0
}
