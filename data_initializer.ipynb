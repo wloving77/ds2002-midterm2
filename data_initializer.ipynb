{
 "cells": [
  {
   "cell_type": "markdown",
   "id": "f854f460-fdd8-4c0b-af45-844c32531e6b",
   "metadata": {},
   "source": [
    "# This Notebook Loads Data into MongoDB, a local mySQL Server, and finds one of those tables from the Local Filesystem\n",
    "\n",
    "1. There will be a separate Azure notebook that accomplishes the data streaming (Bronze, Silver, Gold) and creates the fact table.\n",
    "2. The dataset was sourced from https://www.kaggle.com/datasets/benten867/cannabis-data?select=consumer+and+producer.csv"
   ]
  },
  {
   "cell_type": "code",
   "execution_count": 1,
   "id": "1e5d7fbe-1dfb-400e-8d8d-56e59f488693",
   "metadata": {
    "tags": []
   },
   "outputs": [],
   "source": [
    "import os\n",
    "from sqlalchemy import text, create_engine\n",
    "import pandas as pd\n",
    "import json\n",
    "import datetime\n",
    "import pymongo\n",
    "import requests\n",
    "\n",
    "#Import for displaying images at the end of the notebook\n",
    "from IPython.display import Image"
   ]
  },
  {
   "cell_type": "code",
   "execution_count": 2,
   "id": "519811d8-4219-45a6-ae61-a97fafdb8bb9",
   "metadata": {},
   "outputs": [],
   "source": [
    "#allows pd to show more columns when printing head\n",
    "pd.set_option('display.max_columns', 500)"
   ]
  },
  {
   "cell_type": "code",
   "execution_count": 3,
   "id": "0de3f389-ee34-4c30-9201-bba6b9cc7b65",
   "metadata": {
    "tags": []
   },
   "outputs": [],
   "source": [
    "os.environ['PWD'] = \"Sadwilcha1712!\""
   ]
  },
  {
   "cell_type": "markdown",
   "id": "d0bd50b7-ac4d-4fde-ab4c-9e6f9e06c7d3",
   "metadata": {},
   "source": [
    "## Connection String Creation:"
   ]
  },
  {
   "cell_type": "code",
   "execution_count": 4,
   "id": "e9ca008c-f1bc-4ce7-8cdb-82f81028dd58",
   "metadata": {
    "tags": []
   },
   "outputs": [],
   "source": [
    "#SQL:\n",
    "host_name = \"wfl9zymysql.mysql.database.azure.com\" # the host name\n",
    "user_id = \"wloving77\" # the user id of the account\n",
    "pwd = os.environ[\"PWD\"] # an environment variable invisible as I delete the cell after creating it. \n",
    "db_name_sql = \"ds2002-Midterm2\"\n",
    "\n",
    "conn_str_sql = f\"mysql+pymysql://{user_id}:{pwd}@{host_name}\"\n",
    "\n"
   ]
  },
  {
   "cell_type": "code",
   "execution_count": 5,
   "id": "a73372ca-6f0e-424b-acc3-7a490a19fde1",
   "metadata": {
    "tags": []
   },
   "outputs": [],
   "source": [
    "#MongoDB:\n",
    "atlas_cluster_name = \"dscluster\"\n",
    "atlas_user_name = \"wloving77\"\n",
    "atlas_password = os.environ[\"PWD\"] # omitted the cell defining this variable for password security. \n",
    "atlas_special_key = \"iynrpaa\"\n",
    "\n",
    "db_name_mongo = \"ds2002-Midterm2\"\n",
    "\n",
    "\n",
    "conn_str_mongo = f\"mongodb+srv://{atlas_user_name}:{atlas_password}@{atlas_cluster_name}.{atlas_special_key}.mongodb.net\"\n"
   ]
  },
  {
   "cell_type": "markdown",
   "id": "3cec337a-3da3-4185-91ec-01855685c082",
   "metadata": {},
   "source": [
    "## Functions For Moving Data To/From SQL and MongoDB\n",
    "\n",
    "1. SQL: set_dataframe\n",
    "2. MongoDB: set_collection"
   ]
  },
  {
   "cell_type": "code",
   "execution_count": 6,
   "id": "3853766c-f6bb-4c5c-af42-4f209081a92c",
   "metadata": {
    "tags": []
   },
   "outputs": [],
   "source": [
    "#Function for creating a table on a SQL server\n",
    "def set_dataframe(conn_str, df, table_name, db_name, db_operation):\n",
    "    \n",
    "    '''Create a connection to SQL'''\n",
    "    sqlEngine = create_engine(conn_str, pool_recycle=360)\n",
    "    connection = sqlEngine.connect()\n",
    "        \n",
    "    if db_operation == \"insert\":\n",
    "        df.to_sql(table_name, schema = db_name, con = sqlEngine, index=False, if_exists='replace')\n",
    "            \n",
    "    elif db_operation == \"update\":\n",
    "        df.to_sql(table_name, schema=db_name,con=connection, index=False, if_exists='append')\n",
    "    \n",
    "    connection.close()"
   ]
  },
  {
   "cell_type": "code",
   "execution_count": 7,
   "id": "5781c085-72f7-4078-9634-8c245476e773",
   "metadata": {
    "tags": []
   },
   "outputs": [],
   "source": [
    "#My function that sets a mongodb collection to be the provided dataframe\n",
    "def set_mongo_dataframe(connection_str, df, db_name, collection):\n",
    "        client = pymongo.MongoClient(connection_str)\n",
    "        db = client[db_name]\n",
    "        db[collection].insert_many(df.to_dict('records'))\n",
    "        client.close()"
   ]
  },
  {
   "cell_type": "markdown",
   "id": "1c04ce25-822e-45ef-9ffc-25efb17a5bff",
   "metadata": {},
   "source": [
    "## Load Data Into Both Azure SQL Server and MongoDB Atlas\n",
    "- All Data Was Downloaded Locally and Was Moved from The Local Fileystem to Azure and Mongo\n",
    "- The Steps are as follows:\n",
    "1. Load 5 csv's into 5 dataframes\n",
    "2. Load those 5 dataframes into an SQL Server hosted on Azure\n",
    "3. Load those same 5 dataframes into a MongoDB Cluster. "
   ]
  },
  {
   "cell_type": "code",
   "execution_count": 8,
   "id": "273b7158-6b7d-4673-8d5e-b63f0366b096",
   "metadata": {
    "tags": []
   },
   "outputs": [],
   "source": [
    "s3_bucket_name = 'ds2002-midterm'\n",
    "\n",
    "s3_key1 = \"consumer_and_producer.csv\"\n",
    "s3_key2 = \"income.csv\"\n",
    "s3_key3 = \"industry_production.csv\"\n",
    "s3_key4 = \"licensed_industry_stats.csv\"\n",
    "s3_key5 = \"supply.csv\"\n",
    "\n",
    "s3_string1 = f's3://{s3_bucket_name}/{s3_key1}'\n",
    "s3_string2 = f's3://{s3_bucket_name}/{s3_key2}'\n",
    "s3_string3 = f's3://{s3_bucket_name}/{s3_key3}'\n",
    "s3_string4 = f's3://{s3_bucket_name}/{s3_key4}'\n",
    "s3_string5 = f's3://{s3_bucket_name}/{s3_key5}'"
   ]
  },
  {
   "cell_type": "code",
   "execution_count": 9,
   "id": "51cb8397-d107-4aaf-876e-2e083b4a07bd",
   "metadata": {
    "tags": []
   },
   "outputs": [],
   "source": [
    "df_consumer_and_producer = pd.read_csv(s3_string1)\n",
    "df_income = pd.read_csv(s3_string2)\n",
    "df_industry_production = pd.read_csv(s3_string3)\n",
    "df_licensed_industry_stats = pd.read_csv(s3_string4)\n",
    "df_supply = pd.read_csv(s3_string5)"
   ]
  },
  {
   "cell_type": "markdown",
   "id": "76a23938-9f5e-4e3a-8ed2-b086addc0bf0",
   "metadata": {},
   "source": [
    "## Proof Data Exists:"
   ]
  },
  {
   "cell_type": "code",
   "execution_count": 10,
   "id": "51492d80-9983-4ac1-9040-f4aa5cc7e37c",
   "metadata": {},
   "outputs": [],
   "source": [
    "useless_columns = ['STATUS', 'SYMBOL', 'TERMINATED']"
   ]
  },
  {
   "cell_type": "code",
   "execution_count": 11,
   "id": "75bb77a8-2891-4a2b-9dca-64b8f989e9f2",
   "metadata": {
    "tags": []
   },
   "outputs": [
    {
     "data": {
      "text/html": [
       "<div>\n",
       "<style scoped>\n",
       "    .dataframe tbody tr th:only-of-type {\n",
       "        vertical-align: middle;\n",
       "    }\n",
       "\n",
       "    .dataframe tbody tr th {\n",
       "        vertical-align: top;\n",
       "    }\n",
       "\n",
       "    .dataframe thead th {\n",
       "        text-align: right;\n",
       "    }\n",
       "</style>\n",
       "<table border=\"1\" class=\"dataframe\">\n",
       "  <thead>\n",
       "    <tr style=\"text-align: right;\">\n",
       "      <th></th>\n",
       "      <th>REF_DATE</th>\n",
       "      <th>GEO</th>\n",
       "      <th>DGUID</th>\n",
       "      <th>Cannabis price</th>\n",
       "      <th>Units of measure</th>\n",
       "      <th>UOM</th>\n",
       "      <th>UOM_ID</th>\n",
       "      <th>SCALAR_FACTOR</th>\n",
       "      <th>SCALAR_ID</th>\n",
       "      <th>VECTOR</th>\n",
       "      <th>COORDINATE</th>\n",
       "      <th>VALUE</th>\n",
       "      <th>DECIMALS</th>\n",
       "    </tr>\n",
       "  </thead>\n",
       "  <tbody>\n",
       "    <tr>\n",
       "      <th>0</th>\n",
       "      <td>1961</td>\n",
       "      <td>Canada</td>\n",
       "      <td>2016A000011124</td>\n",
       "      <td>Consumer price</td>\n",
       "      <td>Price per gram</td>\n",
       "      <td>Dollars</td>\n",
       "      <td>81</td>\n",
       "      <td>units</td>\n",
       "      <td>0</td>\n",
       "      <td>v1001799937</td>\n",
       "      <td>1.1.1</td>\n",
       "      <td>4.39</td>\n",
       "      <td>2</td>\n",
       "    </tr>\n",
       "    <tr>\n",
       "      <th>1</th>\n",
       "      <td>1961</td>\n",
       "      <td>Canada</td>\n",
       "      <td>2016A000011124</td>\n",
       "      <td>Consumer price</td>\n",
       "      <td>Price index</td>\n",
       "      <td>2012=100</td>\n",
       "      <td>383</td>\n",
       "      <td>units</td>\n",
       "      <td>0</td>\n",
       "      <td>v1001799938</td>\n",
       "      <td>1.1.2</td>\n",
       "      <td>50.30</td>\n",
       "      <td>1</td>\n",
       "    </tr>\n",
       "  </tbody>\n",
       "</table>\n",
       "</div>"
      ],
      "text/plain": [
       "   REF_DATE     GEO           DGUID  Cannabis price Units of measure  \\\n",
       "0      1961  Canada  2016A000011124  Consumer price   Price per gram   \n",
       "1      1961  Canada  2016A000011124  Consumer price      Price index   \n",
       "\n",
       "        UOM  UOM_ID SCALAR_FACTOR  SCALAR_ID       VECTOR COORDINATE  VALUE  \\\n",
       "0   Dollars      81        units           0  v1001799937      1.1.1   4.39   \n",
       "1  2012=100     383        units           0  v1001799938      1.1.2  50.30   \n",
       "\n",
       "   DECIMALS  \n",
       "0         2  \n",
       "1         1  "
      ]
     },
     "execution_count": 11,
     "metadata": {},
     "output_type": "execute_result"
    }
   ],
   "source": [
    "df_consumer_and_producer.drop(columns = useless_columns, inplace=True)\n",
    "df_consumer_and_producer.head(2)"
   ]
  },
  {
   "cell_type": "code",
   "execution_count": 12,
   "id": "f6c7a620-fe89-4a9c-9eee-a0b01f403420",
   "metadata": {
    "tags": []
   },
   "outputs": [
    {
     "data": {
      "text/html": [
       "<div>\n",
       "<style scoped>\n",
       "    .dataframe tbody tr th:only-of-type {\n",
       "        vertical-align: middle;\n",
       "    }\n",
       "\n",
       "    .dataframe tbody tr th {\n",
       "        vertical-align: top;\n",
       "    }\n",
       "\n",
       "    .dataframe thead th {\n",
       "        text-align: right;\n",
       "    }\n",
       "</style>\n",
       "<table border=\"1\" class=\"dataframe\">\n",
       "  <thead>\n",
       "    <tr style=\"text-align: right;\">\n",
       "      <th></th>\n",
       "      <th>REF_DATE</th>\n",
       "      <th>GEO</th>\n",
       "      <th>DGUID</th>\n",
       "      <th>Estimate</th>\n",
       "      <th>Industry</th>\n",
       "      <th>UOM</th>\n",
       "      <th>UOM_ID</th>\n",
       "      <th>SCALAR_FACTOR</th>\n",
       "      <th>SCALAR_ID</th>\n",
       "      <th>VECTOR</th>\n",
       "      <th>COORDINATE</th>\n",
       "      <th>VALUE</th>\n",
       "      <th>DECIMALS</th>\n",
       "    </tr>\n",
       "  </thead>\n",
       "  <tbody>\n",
       "    <tr>\n",
       "      <th>0</th>\n",
       "      <td>1961</td>\n",
       "      <td>Canada</td>\n",
       "      <td>2016A000011124</td>\n",
       "      <td>Gross domestic product (GDP)</td>\n",
       "      <td>Medical cannabis industry</td>\n",
       "      <td>Dollars</td>\n",
       "      <td>81</td>\n",
       "      <td>millions</td>\n",
       "      <td>6</td>\n",
       "      <td>v1001809219</td>\n",
       "      <td>1.1.1</td>\n",
       "      <td>0</td>\n",
       "      <td>0</td>\n",
       "    </tr>\n",
       "    <tr>\n",
       "      <th>1</th>\n",
       "      <td>1961</td>\n",
       "      <td>Canada</td>\n",
       "      <td>2016A000011124</td>\n",
       "      <td>Gross domestic product (GDP)</td>\n",
       "      <td>Non-medical cannabis industry</td>\n",
       "      <td>Dollars</td>\n",
       "      <td>81</td>\n",
       "      <td>millions</td>\n",
       "      <td>6</td>\n",
       "      <td>v1001809224</td>\n",
       "      <td>1.1.2</td>\n",
       "      <td>94</td>\n",
       "      <td>0</td>\n",
       "    </tr>\n",
       "  </tbody>\n",
       "</table>\n",
       "</div>"
      ],
      "text/plain": [
       "   REF_DATE     GEO           DGUID                      Estimate  \\\n",
       "0      1961  Canada  2016A000011124  Gross domestic product (GDP)   \n",
       "1      1961  Canada  2016A000011124  Gross domestic product (GDP)   \n",
       "\n",
       "                        Industry      UOM  UOM_ID SCALAR_FACTOR  SCALAR_ID  \\\n",
       "0      Medical cannabis industry  Dollars      81      millions          6   \n",
       "1  Non-medical cannabis industry  Dollars      81      millions          6   \n",
       "\n",
       "        VECTOR COORDINATE  VALUE  DECIMALS  \n",
       "0  v1001809219      1.1.1      0         0  \n",
       "1  v1001809224      1.1.2     94         0  "
      ]
     },
     "execution_count": 12,
     "metadata": {},
     "output_type": "execute_result"
    }
   ],
   "source": [
    "df_income.drop(columns = useless_columns, inplace=True)\n",
    "df_income.head(2)"
   ]
  },
  {
   "cell_type": "code",
   "execution_count": 13,
   "id": "b34d15b3-2007-4f5a-9751-596c5658939e",
   "metadata": {
    "tags": []
   },
   "outputs": [
    {
     "data": {
      "text/html": [
       "<div>\n",
       "<style scoped>\n",
       "    .dataframe tbody tr th:only-of-type {\n",
       "        vertical-align: middle;\n",
       "    }\n",
       "\n",
       "    .dataframe tbody tr th {\n",
       "        vertical-align: top;\n",
       "    }\n",
       "\n",
       "    .dataframe thead th {\n",
       "        text-align: right;\n",
       "    }\n",
       "</style>\n",
       "<table border=\"1\" class=\"dataframe\">\n",
       "  <thead>\n",
       "    <tr style=\"text-align: right;\">\n",
       "      <th></th>\n",
       "      <th>REF_DATE</th>\n",
       "      <th>GEO</th>\n",
       "      <th>DGUID</th>\n",
       "      <th>Indicator</th>\n",
       "      <th>Industry</th>\n",
       "      <th>Authority</th>\n",
       "      <th>UOM</th>\n",
       "      <th>UOM_ID</th>\n",
       "      <th>SCALAR_FACTOR</th>\n",
       "      <th>SCALAR_ID</th>\n",
       "      <th>VECTOR</th>\n",
       "      <th>COORDINATE</th>\n",
       "      <th>VALUE</th>\n",
       "      <th>DECIMALS</th>\n",
       "    </tr>\n",
       "  </thead>\n",
       "  <tbody>\n",
       "    <tr>\n",
       "      <th>0</th>\n",
       "      <td>1961</td>\n",
       "      <td>Canada</td>\n",
       "      <td>2016A000011124</td>\n",
       "      <td>Domestic production</td>\n",
       "      <td>Cannabis cultivation industry</td>\n",
       "      <td>Licensed source</td>\n",
       "      <td>Dollars</td>\n",
       "      <td>81</td>\n",
       "      <td>millions</td>\n",
       "      <td>6</td>\n",
       "      <td>v1001808807</td>\n",
       "      <td>1.1.1.1</td>\n",
       "      <td>0.0</td>\n",
       "      <td>0</td>\n",
       "    </tr>\n",
       "    <tr>\n",
       "      <th>1</th>\n",
       "      <td>1961</td>\n",
       "      <td>Canada</td>\n",
       "      <td>2016A000011124</td>\n",
       "      <td>Domestic production</td>\n",
       "      <td>Cannabis cultivation industry</td>\n",
       "      <td>Unlicensed source</td>\n",
       "      <td>Dollars</td>\n",
       "      <td>81</td>\n",
       "      <td>millions</td>\n",
       "      <td>6</td>\n",
       "      <td>v1001808808</td>\n",
       "      <td>1.1.1.2</td>\n",
       "      <td>83.0</td>\n",
       "      <td>0</td>\n",
       "    </tr>\n",
       "  </tbody>\n",
       "</table>\n",
       "</div>"
      ],
      "text/plain": [
       "   REF_DATE     GEO           DGUID            Indicator  \\\n",
       "0      1961  Canada  2016A000011124  Domestic production   \n",
       "1      1961  Canada  2016A000011124  Domestic production   \n",
       "\n",
       "                        Industry          Authority      UOM  UOM_ID  \\\n",
       "0  Cannabis cultivation industry    Licensed source  Dollars      81   \n",
       "1  Cannabis cultivation industry  Unlicensed source  Dollars      81   \n",
       "\n",
       "  SCALAR_FACTOR  SCALAR_ID       VECTOR COORDINATE  VALUE  DECIMALS  \n",
       "0      millions          6  v1001808807    1.1.1.1    0.0         0  \n",
       "1      millions          6  v1001808808    1.1.1.2   83.0         0  "
      ]
     },
     "execution_count": 13,
     "metadata": {},
     "output_type": "execute_result"
    }
   ],
   "source": [
    "df_industry_production.drop(columns = useless_columns, inplace=True)\n",
    "df_industry_production.head(2)"
   ]
  },
  {
   "cell_type": "code",
   "execution_count": 14,
   "id": "9625ba47-191d-4543-9961-6816cbdccc89",
   "metadata": {
    "tags": []
   },
   "outputs": [
    {
     "data": {
      "text/html": [
       "<div>\n",
       "<style scoped>\n",
       "    .dataframe tbody tr th:only-of-type {\n",
       "        vertical-align: middle;\n",
       "    }\n",
       "\n",
       "    .dataframe tbody tr th {\n",
       "        vertical-align: top;\n",
       "    }\n",
       "\n",
       "    .dataframe thead th {\n",
       "        text-align: right;\n",
       "    }\n",
       "</style>\n",
       "<table border=\"1\" class=\"dataframe\">\n",
       "  <thead>\n",
       "    <tr style=\"text-align: right;\">\n",
       "      <th></th>\n",
       "      <th>REF_DATE</th>\n",
       "      <th>GEO</th>\n",
       "      <th>DGUID</th>\n",
       "      <th>Indicator</th>\n",
       "      <th>UOM</th>\n",
       "      <th>UOM_ID</th>\n",
       "      <th>SCALAR_FACTOR</th>\n",
       "      <th>SCALAR_ID</th>\n",
       "      <th>VECTOR</th>\n",
       "      <th>COORDINATE</th>\n",
       "      <th>VALUE</th>\n",
       "      <th>DECIMALS</th>\n",
       "    </tr>\n",
       "  </thead>\n",
       "  <tbody>\n",
       "    <tr>\n",
       "      <th>0</th>\n",
       "      <td>2016</td>\n",
       "      <td>Canada</td>\n",
       "      <td>2016A000011124</td>\n",
       "      <td>Total revenue</td>\n",
       "      <td>Dollars</td>\n",
       "      <td>81</td>\n",
       "      <td>units</td>\n",
       "      <td>0</td>\n",
       "      <td>v1001849328</td>\n",
       "      <td>1.1</td>\n",
       "      <td>245732000.0</td>\n",
       "      <td>0</td>\n",
       "    </tr>\n",
       "    <tr>\n",
       "      <th>1</th>\n",
       "      <td>2016</td>\n",
       "      <td>Canada</td>\n",
       "      <td>2016A000011124</td>\n",
       "      <td>Cannabis revenue</td>\n",
       "      <td>Dollars</td>\n",
       "      <td>81</td>\n",
       "      <td>units</td>\n",
       "      <td>0</td>\n",
       "      <td>v1001849329</td>\n",
       "      <td>1.2</td>\n",
       "      <td>239363000.0</td>\n",
       "      <td>0</td>\n",
       "    </tr>\n",
       "  </tbody>\n",
       "</table>\n",
       "</div>"
      ],
      "text/plain": [
       "   REF_DATE     GEO           DGUID         Indicator      UOM  UOM_ID  \\\n",
       "0      2016  Canada  2016A000011124     Total revenue  Dollars      81   \n",
       "1      2016  Canada  2016A000011124  Cannabis revenue  Dollars      81   \n",
       "\n",
       "  SCALAR_FACTOR  SCALAR_ID       VECTOR  COORDINATE        VALUE  DECIMALS  \n",
       "0        units           0  v1001849328         1.1  245732000.0         0  \n",
       "1        units           0  v1001849329         1.2  239363000.0         0  "
      ]
     },
     "execution_count": 14,
     "metadata": {},
     "output_type": "execute_result"
    }
   ],
   "source": [
    "df_licensed_industry_stats.drop(columns = useless_columns, inplace=True)\n",
    "df_licensed_industry_stats.head(2)"
   ]
  },
  {
   "cell_type": "code",
   "execution_count": 15,
   "id": "3867f60e-e0b1-4665-bd93-13d33cf24a40",
   "metadata": {
    "tags": []
   },
   "outputs": [
    {
     "data": {
      "text/html": [
       "<div>\n",
       "<style scoped>\n",
       "    .dataframe tbody tr th:only-of-type {\n",
       "        vertical-align: middle;\n",
       "    }\n",
       "\n",
       "    .dataframe tbody tr th {\n",
       "        vertical-align: top;\n",
       "    }\n",
       "\n",
       "    .dataframe thead th {\n",
       "        text-align: right;\n",
       "    }\n",
       "</style>\n",
       "<table border=\"1\" class=\"dataframe\">\n",
       "  <thead>\n",
       "    <tr style=\"text-align: right;\">\n",
       "      <th></th>\n",
       "      <th>REF_DATE</th>\n",
       "      <th>GEO</th>\n",
       "      <th>DGUID</th>\n",
       "      <th>Indicator</th>\n",
       "      <th>Type of use</th>\n",
       "      <th>UOM</th>\n",
       "      <th>UOM_ID</th>\n",
       "      <th>SCALAR_FACTOR</th>\n",
       "      <th>SCALAR_ID</th>\n",
       "      <th>VECTOR</th>\n",
       "      <th>COORDINATE</th>\n",
       "      <th>VALUE</th>\n",
       "      <th>DECIMALS</th>\n",
       "    </tr>\n",
       "  </thead>\n",
       "  <tbody>\n",
       "    <tr>\n",
       "      <th>0</th>\n",
       "      <td>1961</td>\n",
       "      <td>Canada</td>\n",
       "      <td>2016A000011124</td>\n",
       "      <td>Total supply</td>\n",
       "      <td>Medical use</td>\n",
       "      <td>Dollars</td>\n",
       "      <td>81</td>\n",
       "      <td>millions</td>\n",
       "      <td>6</td>\n",
       "      <td>v1001809167</td>\n",
       "      <td>1.1.1</td>\n",
       "      <td>0</td>\n",
       "      <td>0</td>\n",
       "    </tr>\n",
       "    <tr>\n",
       "      <th>1</th>\n",
       "      <td>1961</td>\n",
       "      <td>Canada</td>\n",
       "      <td>2016A000011124</td>\n",
       "      <td>Total supply</td>\n",
       "      <td>Non-medical use</td>\n",
       "      <td>Dollars</td>\n",
       "      <td>81</td>\n",
       "      <td>millions</td>\n",
       "      <td>6</td>\n",
       "      <td>v1001809179</td>\n",
       "      <td>1.1.2</td>\n",
       "      <td>190</td>\n",
       "      <td>0</td>\n",
       "    </tr>\n",
       "  </tbody>\n",
       "</table>\n",
       "</div>"
      ],
      "text/plain": [
       "   REF_DATE     GEO           DGUID     Indicator      Type of use      UOM  \\\n",
       "0      1961  Canada  2016A000011124  Total supply      Medical use  Dollars   \n",
       "1      1961  Canada  2016A000011124  Total supply  Non-medical use  Dollars   \n",
       "\n",
       "   UOM_ID SCALAR_FACTOR  SCALAR_ID       VECTOR COORDINATE  VALUE  DECIMALS  \n",
       "0      81      millions          6  v1001809167      1.1.1      0         0  \n",
       "1      81      millions          6  v1001809179      1.1.2    190         0  "
      ]
     },
     "execution_count": 15,
     "metadata": {},
     "output_type": "execute_result"
    }
   ],
   "source": [
    "df_supply.drop(columns = useless_columns, inplace=True)\n",
    "df_supply.head(2)"
   ]
  },
  {
   "cell_type": "markdown",
   "id": "6e3c2c88-0ee7-4920-b1a1-4f1ed758a0cf",
   "metadata": {},
   "source": [
    "## Now To Load The Dataframes to MongoDB and Azure SQL Server\n",
    "- SQL:"
   ]
  },
  {
   "cell_type": "code",
   "execution_count": 16,
   "id": "31586345-00a9-46f8-a7de-83cc2916117e",
   "metadata": {
    "tags": []
   },
   "outputs": [],
   "source": [
    "#First I have to create the database for the data to be put in\n",
    "sqlEngine = create_engine(conn_str_sql, pool_recycle=3600)\n",
    "\n",
    "conn = sqlEngine.connect()\n",
    "\n",
    "conn.execute(text(\"DROP DATABASE IF EXISTS `ds2002-Midterm2`;\"))\n",
    "conn.execute(text(\"CREATE DATABASE `ds2002-Midterm2`;\"))\n",
    "\n",
    "conn.close()"
   ]
  },
  {
   "cell_type": "code",
   "execution_count": null,
   "id": "4cc28d84-80f6-4baa-971c-2296343d95fb",
   "metadata": {
    "tags": []
   },
   "outputs": [],
   "source": [
    "#Sends the dataframes to be created as tables on the SQL server\n",
    "set_dataframe(conn_str_sql, df_consumer_and_producer, \"consumer_and_producer\", db_name_sql,  \"insert\")\n",
    "set_dataframe(conn_str_sql, df_income, \"income\", db_name_sql,  \"insert\")\n",
    "set_dataframe(conn_str_sql, df_industry_production, \"industry_production\", db_name_sql, \"insert\")\n",
    "set_dataframe(conn_str_sql, df_licensed_industry_stats, \"licensed_industry_stats\", db_name_sql,  \"insert\")\n",
    "set_dataframe(conn_str_sql, df_supply, \"supply\", db_name_sql,  \"insert\")"
   ]
  },
  {
   "cell_type": "markdown",
   "id": "42548efe-4f94-4764-9a4a-fbf26daf30c7",
   "metadata": {},
   "source": [
    "- MongoDB:"
   ]
  },
  {
   "cell_type": "code",
   "execution_count": null,
   "id": "0a7d0470-5946-4291-bfd7-bcaa18bdc518",
   "metadata": {
    "tags": []
   },
   "outputs": [],
   "source": [
    "client = pymongo.MongoClient(conn_str_mongo)\n",
    "client.drop_database('ds2002-Midterm2')"
   ]
  },
  {
   "cell_type": "code",
   "execution_count": null,
   "id": "f7b253aa-1582-4efa-be92-4f995025ed64",
   "metadata": {
    "tags": []
   },
   "outputs": [],
   "source": [
    "#Sends the dataframes to be created as tables in a MongoDB cluster\n",
    "set_mongo_dataframe(conn_str_mongo, df_consumer_and_producer, db_name_mongo, \"consumer_and_producer\")\n",
    "set_mongo_dataframe(conn_str_mongo, df_income, db_name_mongo, \"income\")\n",
    "set_mongo_dataframe(conn_str_mongo, df_industry_production, db_name_mongo, \"industry_production\")\n",
    "set_mongo_dataframe(conn_str_mongo, df_licensed_industry_stats, db_name_mongo, \"licensed_industry_stats\")\n",
    "set_mongo_dataframe(conn_str_mongo, df_supply, db_name_mongo, \"supply\")"
   ]
  },
  {
   "cell_type": "markdown",
   "id": "2fdcc773-58f3-4d48-a260-fdbcbe4aee32",
   "metadata": {},
   "source": [
    "## Proof of Successful Data Movement:"
   ]
  },
  {
   "cell_type": "code",
   "execution_count": null,
   "id": "36bd4ffd-3351-42db-9171-62ce47d7e267",
   "metadata": {
    "tags": []
   },
   "outputs": [],
   "source": [
    "Image(filename='mongoProof-MT2.png') "
   ]
  },
  {
   "cell_type": "code",
   "execution_count": null,
   "id": "21b646b2-493c-45b9-abd9-f77d265a501a",
   "metadata": {
    "tags": []
   },
   "outputs": [],
   "source": [
    "Image(filename = \"sqlProof-MT2.png\")"
   ]
  },
  {
   "cell_type": "code",
   "execution_count": null,
   "id": "3533b554-99db-47a1-99e5-d937107ba836",
   "metadata": {},
   "outputs": [],
   "source": []
  }
 ],
 "metadata": {
  "kernelspec": {
   "display_name": "Python 3 (ipykernel)",
   "language": "python",
   "name": "python3"
  },
  "language_info": {
   "codemirror_mode": {
    "name": "ipython",
    "version": 3
   },
   "file_extension": ".py",
   "mimetype": "text/x-python",
   "name": "python",
   "nbconvert_exporter": "python",
   "pygments_lexer": "ipython3",
   "version": "3.10.6"
  }
 },
 "nbformat": 4,
 "nbformat_minor": 5
}
