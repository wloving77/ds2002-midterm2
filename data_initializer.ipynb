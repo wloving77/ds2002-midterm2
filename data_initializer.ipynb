{
 "cells": [
  {
   "cell_type": "markdown",
   "id": "f854f460-fdd8-4c0b-af45-844c32531e6b",
   "metadata": {},
   "source": [
    "# This Notebook Loads Data into MongoDB, a local mySQL Server, and finds one of those tables from the Local Filesystem\n",
    "\n",
    "1. There will be a separate Azure notebook that accomplishes the data streaming (Bronze, Silver, Gold) and creates the fact table.\n",
    "2. The dataset was sourced from https://www.kaggle.com/datasets/benten867/cannabis-data?select=consumer+and+producer.csv"
   ]
  },
  {
   "cell_type": "code",
   "execution_count": 1,
   "id": "1e5d7fbe-1dfb-400e-8d8d-56e59f488693",
   "metadata": {
    "tags": []
   },
   "outputs": [],
   "source": [
    "import os\n",
    "from sqlalchemy import text, create_engine\n",
    "import pandas as pd\n",
    "import json\n",
    "import datetime\n",
    "import pymongo\n",
    "import requests"
   ]
  },
  {
   "cell_type": "code",
   "execution_count": 2,
   "id": "519811d8-4219-45a6-ae61-a97fafdb8bb9",
   "metadata": {},
   "outputs": [],
   "source": [
    "#allows pd to show more columns when printing head\n",
    "pd.set_option('display.max_columns', 500)"
   ]
  },
  {
   "cell_type": "code",
   "execution_count": 20,
   "id": "cc78317b-ec47-4d9d-abaa-564018e6143e",
   "metadata": {
    "tags": []
   },
   "outputs": [],
   "source": [
    "os.environ['PWD'] = \"Sadwilcha1712!\""
   ]
  },
  {
   "cell_type": "markdown",
   "id": "d0bd50b7-ac4d-4fde-ab4c-9e6f9e06c7d3",
   "metadata": {},
   "source": [
    "## Connection String Creation:"
   ]
  },
  {
   "cell_type": "code",
   "execution_count": 33,
   "id": "e9ca008c-f1bc-4ce7-8cdb-82f81028dd58",
   "metadata": {
    "tags": []
   },
   "outputs": [],
   "source": [
    "#SQL:\n",
    "host_name = \"wfl9zymysql.mysql.database.azure.com\" # the host name\n",
    "user_id = \"wloving77\" # the user id of the account\n",
    "pwd = os.environ[\"PWD\"] # an enviornmental variable invisible as I delete the cell after creating it. \n",
    "db_name = \"ds2002-Midterm2\"\n",
    "\n",
    "conn_str_sql = f\"mysql+pymysql://{user_id}:{pwd}@{host_name}\"\n",
    "\n"
   ]
  },
  {
   "cell_type": "code",
   "execution_count": 42,
   "id": "a73372ca-6f0e-424b-acc3-7a490a19fde1",
   "metadata": {
    "tags": []
   },
   "outputs": [],
   "source": [
    "#MongoDB:\n",
    "atlas_cluster_name = \"dscluster\"\n",
    "atlas_user_name = \"wloving77\"\n",
    "atlas_password = os.environ[\"PWD\"] # omitted the cell defining this variable for password security. \n",
    "atlas_special_key = \"iynrpaa\"\n",
    "\n",
    "db_name_mongo = \"ds2002-Midterm2\"\n",
    "\n",
    "\n",
    "conn_str_mongo = f\"mongodb+srv://{atlas_user_name}:{atlas_password}@{atlas_cluster_name}.{atlas_special_key}.mongodb.net\"\n"
   ]
  },
  {
   "cell_type": "markdown",
   "id": "3cec337a-3da3-4185-91ec-01855685c082",
   "metadata": {},
   "source": [
    "## Functions For Moving Data To/From SQL and MongoDB\n",
    "\n",
    "1. SQL: set_dataframe\n",
    "2. MongoDB: set_collection"
   ]
  },
  {
   "cell_type": "code",
   "execution_count": 5,
   "id": "3853766c-f6bb-4c5c-af42-4f209081a92c",
   "metadata": {
    "tags": []
   },
   "outputs": [],
   "source": [
    "#Function for creating a table on a SQL server\n",
    "def set_dataframe(conn_str, df, table_name, db_name, db_operation):\n",
    "    \n",
    "    '''Create a connection to SQL'''\n",
    "    sqlEngine = create_engine(conn_str, pool_recycle=360)\n",
    "    connection = sqlEngine.connect()\n",
    "        \n",
    "    if db_operation == \"insert\":\n",
    "        df.to_sql(table_name, schema = db_name, con = sqlEngine, index=False, if_exists='replace')\n",
    "            \n",
    "    elif db_operation == \"update\":\n",
    "        df.to_sql(table_name, schema=db_name,con=connection, index=False, if_exists='append')\n",
    "    \n",
    "    connection.close()"
   ]
  },
  {
   "cell_type": "code",
   "execution_count": 40,
   "id": "5781c085-72f7-4078-9634-8c245476e773",
   "metadata": {
    "tags": []
   },
   "outputs": [],
   "source": [
    "#My function that sets a mongodb collection to be the provided dataframe\n",
    "def set_mongo_dataframe(connection_str, df, db_name, collection):\n",
    "        client = pymongo.MongoClient(connection_str)\n",
    "        db = client[db_name]\n",
    "        db[collection].insert_many(df.to_dict('records'))\n",
    "        client.close()"
   ]
  },
  {
   "cell_type": "markdown",
   "id": "1c04ce25-822e-45ef-9ffc-25efb17a5bff",
   "metadata": {},
   "source": [
    "## Load Data Into Both Azure SQL Server and MongoDB Atlas\n",
    "- All Data Was Downloaded Locally and Was Moved from The Local Fileystem to Azure and Mongo\n",
    "- The Steps are as follows:\n",
    "1. Load 5 csv's into 5 dataframes\n",
    "2. Load those 5 dataframes into an SQL Server hosted on Azure\n",
    "3. Load those same 5 dataframes into a MongoDB Cluster. "
   ]
  },
  {
   "cell_type": "code",
   "execution_count": 9,
   "id": "273b7158-6b7d-4673-8d5e-b63f0366b096",
   "metadata": {
    "tags": []
   },
   "outputs": [
    {
     "name": "stdout",
     "output_type": "stream",
     "text": [
      "/home/wloving77/Githubs/ds2002-midterm2/data\n"
     ]
    }
   ],
   "source": [
    "data_dir = os.path.join(os.getcwd(), 'data')\n",
    "print(data_dir)\n",
    "\n",
    "df_data1 = data_dir+\"/consumer_and_producer.csv\"\n",
    "df_data2 = data_dir+\"/income.csv\"\n",
    "df_data3 = data_dir+\"/industry_production.csv\"\n",
    "df_data4 = data_dir+\"/licensed_industry_stats.csv\"\n",
    "df_data5 = data_dir+\"/supply.csv\""
   ]
  },
  {
   "cell_type": "code",
   "execution_count": 31,
   "id": "51cb8397-d107-4aaf-876e-2e083b4a07bd",
   "metadata": {
    "tags": []
   },
   "outputs": [],
   "source": [
    "df_consumer_and_producer = pd.read_csv(df_data1)\n",
    "df_income = pd.read_csv(df_data2)\n",
    "df_industry_production = pd.read_csv(df_data3)\n",
    "df_licensed_industry_stats = pd.read_csv(df_data4)\n",
    "df_supply = pd.read_csv(df_data5)"
   ]
  },
  {
   "cell_type": "markdown",
   "id": "76a23938-9f5e-4e3a-8ed2-b086addc0bf0",
   "metadata": {},
   "source": [
    "## Proof Data Exists:"
   ]
  },
  {
   "cell_type": "code",
   "execution_count": 13,
   "id": "75bb77a8-2891-4a2b-9dca-64b8f989e9f2",
   "metadata": {
    "tags": []
   },
   "outputs": [
    {
     "data": {
      "text/html": [
       "<div>\n",
       "<style scoped>\n",
       "    .dataframe tbody tr th:only-of-type {\n",
       "        vertical-align: middle;\n",
       "    }\n",
       "\n",
       "    .dataframe tbody tr th {\n",
       "        vertical-align: top;\n",
       "    }\n",
       "\n",
       "    .dataframe thead th {\n",
       "        text-align: right;\n",
       "    }\n",
       "</style>\n",
       "<table border=\"1\" class=\"dataframe\">\n",
       "  <thead>\n",
       "    <tr style=\"text-align: right;\">\n",
       "      <th></th>\n",
       "      <th>REF_DATE</th>\n",
       "      <th>GEO</th>\n",
       "      <th>DGUID</th>\n",
       "      <th>Cannabis price</th>\n",
       "      <th>Units of measure</th>\n",
       "      <th>UOM</th>\n",
       "      <th>UOM_ID</th>\n",
       "      <th>SCALAR_FACTOR</th>\n",
       "      <th>SCALAR_ID</th>\n",
       "      <th>VECTOR</th>\n",
       "      <th>COORDINATE</th>\n",
       "      <th>VALUE</th>\n",
       "      <th>STATUS</th>\n",
       "      <th>SYMBOL</th>\n",
       "      <th>TERMINATED</th>\n",
       "      <th>DECIMALS</th>\n",
       "    </tr>\n",
       "  </thead>\n",
       "  <tbody>\n",
       "    <tr>\n",
       "      <th>0</th>\n",
       "      <td>1961</td>\n",
       "      <td>Canada</td>\n",
       "      <td>2016A000011124</td>\n",
       "      <td>Consumer price</td>\n",
       "      <td>Price per gram</td>\n",
       "      <td>Dollars</td>\n",
       "      <td>81</td>\n",
       "      <td>units</td>\n",
       "      <td>0</td>\n",
       "      <td>v1001799937</td>\n",
       "      <td>1.1.1</td>\n",
       "      <td>4.39</td>\n",
       "      <td>NaN</td>\n",
       "      <td>NaN</td>\n",
       "      <td>NaN</td>\n",
       "      <td>2</td>\n",
       "    </tr>\n",
       "    <tr>\n",
       "      <th>1</th>\n",
       "      <td>1961</td>\n",
       "      <td>Canada</td>\n",
       "      <td>2016A000011124</td>\n",
       "      <td>Consumer price</td>\n",
       "      <td>Price index</td>\n",
       "      <td>2012=100</td>\n",
       "      <td>383</td>\n",
       "      <td>units</td>\n",
       "      <td>0</td>\n",
       "      <td>v1001799938</td>\n",
       "      <td>1.1.2</td>\n",
       "      <td>50.30</td>\n",
       "      <td>NaN</td>\n",
       "      <td>NaN</td>\n",
       "      <td>NaN</td>\n",
       "      <td>1</td>\n",
       "    </tr>\n",
       "  </tbody>\n",
       "</table>\n",
       "</div>"
      ],
      "text/plain": [
       "   REF_DATE     GEO           DGUID  Cannabis price Units of measure  \\\n",
       "0      1961  Canada  2016A000011124  Consumer price   Price per gram   \n",
       "1      1961  Canada  2016A000011124  Consumer price      Price index   \n",
       "\n",
       "        UOM  UOM_ID SCALAR_FACTOR  SCALAR_ID       VECTOR COORDINATE  VALUE  \\\n",
       "0   Dollars      81        units           0  v1001799937      1.1.1   4.39   \n",
       "1  2012=100     383        units           0  v1001799938      1.1.2  50.30   \n",
       "\n",
       "  STATUS  SYMBOL  TERMINATED  DECIMALS  \n",
       "0    NaN     NaN         NaN         2  \n",
       "1    NaN     NaN         NaN         1  "
      ]
     },
     "execution_count": 13,
     "metadata": {},
     "output_type": "execute_result"
    }
   ],
   "source": [
    "df_consumer_and_producer.head(2)"
   ]
  },
  {
   "cell_type": "code",
   "execution_count": 14,
   "id": "f6c7a620-fe89-4a9c-9eee-a0b01f403420",
   "metadata": {
    "tags": []
   },
   "outputs": [
    {
     "data": {
      "text/html": [
       "<div>\n",
       "<style scoped>\n",
       "    .dataframe tbody tr th:only-of-type {\n",
       "        vertical-align: middle;\n",
       "    }\n",
       "\n",
       "    .dataframe tbody tr th {\n",
       "        vertical-align: top;\n",
       "    }\n",
       "\n",
       "    .dataframe thead th {\n",
       "        text-align: right;\n",
       "    }\n",
       "</style>\n",
       "<table border=\"1\" class=\"dataframe\">\n",
       "  <thead>\n",
       "    <tr style=\"text-align: right;\">\n",
       "      <th></th>\n",
       "      <th>REF_DATE</th>\n",
       "      <th>GEO</th>\n",
       "      <th>DGUID</th>\n",
       "      <th>Estimate</th>\n",
       "      <th>Industry</th>\n",
       "      <th>UOM</th>\n",
       "      <th>UOM_ID</th>\n",
       "      <th>SCALAR_FACTOR</th>\n",
       "      <th>SCALAR_ID</th>\n",
       "      <th>VECTOR</th>\n",
       "      <th>COORDINATE</th>\n",
       "      <th>VALUE</th>\n",
       "      <th>STATUS</th>\n",
       "      <th>SYMBOL</th>\n",
       "      <th>TERMINATED</th>\n",
       "      <th>DECIMALS</th>\n",
       "    </tr>\n",
       "  </thead>\n",
       "  <tbody>\n",
       "    <tr>\n",
       "      <th>0</th>\n",
       "      <td>1961</td>\n",
       "      <td>Canada</td>\n",
       "      <td>2016A000011124</td>\n",
       "      <td>Gross domestic product (GDP)</td>\n",
       "      <td>Medical cannabis industry</td>\n",
       "      <td>Dollars</td>\n",
       "      <td>81</td>\n",
       "      <td>millions</td>\n",
       "      <td>6</td>\n",
       "      <td>v1001809219</td>\n",
       "      <td>1.1.1</td>\n",
       "      <td>0</td>\n",
       "      <td>NaN</td>\n",
       "      <td>NaN</td>\n",
       "      <td>NaN</td>\n",
       "      <td>0</td>\n",
       "    </tr>\n",
       "    <tr>\n",
       "      <th>1</th>\n",
       "      <td>1961</td>\n",
       "      <td>Canada</td>\n",
       "      <td>2016A000011124</td>\n",
       "      <td>Gross domestic product (GDP)</td>\n",
       "      <td>Non-medical cannabis industry</td>\n",
       "      <td>Dollars</td>\n",
       "      <td>81</td>\n",
       "      <td>millions</td>\n",
       "      <td>6</td>\n",
       "      <td>v1001809224</td>\n",
       "      <td>1.1.2</td>\n",
       "      <td>94</td>\n",
       "      <td>NaN</td>\n",
       "      <td>NaN</td>\n",
       "      <td>NaN</td>\n",
       "      <td>0</td>\n",
       "    </tr>\n",
       "  </tbody>\n",
       "</table>\n",
       "</div>"
      ],
      "text/plain": [
       "   REF_DATE     GEO           DGUID                      Estimate  \\\n",
       "0      1961  Canada  2016A000011124  Gross domestic product (GDP)   \n",
       "1      1961  Canada  2016A000011124  Gross domestic product (GDP)   \n",
       "\n",
       "                        Industry      UOM  UOM_ID SCALAR_FACTOR  SCALAR_ID  \\\n",
       "0      Medical cannabis industry  Dollars      81      millions          6   \n",
       "1  Non-medical cannabis industry  Dollars      81      millions          6   \n",
       "\n",
       "        VECTOR COORDINATE  VALUE  STATUS  SYMBOL  TERMINATED  DECIMALS  \n",
       "0  v1001809219      1.1.1      0     NaN     NaN         NaN         0  \n",
       "1  v1001809224      1.1.2     94     NaN     NaN         NaN         0  "
      ]
     },
     "execution_count": 14,
     "metadata": {},
     "output_type": "execute_result"
    }
   ],
   "source": [
    "df_income.head(2)"
   ]
  },
  {
   "cell_type": "code",
   "execution_count": 15,
   "id": "b34d15b3-2007-4f5a-9751-596c5658939e",
   "metadata": {
    "tags": []
   },
   "outputs": [
    {
     "data": {
      "text/html": [
       "<div>\n",
       "<style scoped>\n",
       "    .dataframe tbody tr th:only-of-type {\n",
       "        vertical-align: middle;\n",
       "    }\n",
       "\n",
       "    .dataframe tbody tr th {\n",
       "        vertical-align: top;\n",
       "    }\n",
       "\n",
       "    .dataframe thead th {\n",
       "        text-align: right;\n",
       "    }\n",
       "</style>\n",
       "<table border=\"1\" class=\"dataframe\">\n",
       "  <thead>\n",
       "    <tr style=\"text-align: right;\">\n",
       "      <th></th>\n",
       "      <th>REF_DATE</th>\n",
       "      <th>GEO</th>\n",
       "      <th>DGUID</th>\n",
       "      <th>Indicator</th>\n",
       "      <th>Industry</th>\n",
       "      <th>Authority</th>\n",
       "      <th>UOM</th>\n",
       "      <th>UOM_ID</th>\n",
       "      <th>SCALAR_FACTOR</th>\n",
       "      <th>SCALAR_ID</th>\n",
       "      <th>VECTOR</th>\n",
       "      <th>COORDINATE</th>\n",
       "      <th>VALUE</th>\n",
       "      <th>STATUS</th>\n",
       "      <th>SYMBOL</th>\n",
       "      <th>TERMINATED</th>\n",
       "      <th>DECIMALS</th>\n",
       "    </tr>\n",
       "  </thead>\n",
       "  <tbody>\n",
       "    <tr>\n",
       "      <th>0</th>\n",
       "      <td>1961</td>\n",
       "      <td>Canada</td>\n",
       "      <td>2016A000011124</td>\n",
       "      <td>Domestic production</td>\n",
       "      <td>Cannabis cultivation industry</td>\n",
       "      <td>Licensed source</td>\n",
       "      <td>Dollars</td>\n",
       "      <td>81</td>\n",
       "      <td>millions</td>\n",
       "      <td>6</td>\n",
       "      <td>v1001808807</td>\n",
       "      <td>1.1.1.1</td>\n",
       "      <td>0.0</td>\n",
       "      <td>NaN</td>\n",
       "      <td>NaN</td>\n",
       "      <td>NaN</td>\n",
       "      <td>0</td>\n",
       "    </tr>\n",
       "    <tr>\n",
       "      <th>1</th>\n",
       "      <td>1961</td>\n",
       "      <td>Canada</td>\n",
       "      <td>2016A000011124</td>\n",
       "      <td>Domestic production</td>\n",
       "      <td>Cannabis cultivation industry</td>\n",
       "      <td>Unlicensed source</td>\n",
       "      <td>Dollars</td>\n",
       "      <td>81</td>\n",
       "      <td>millions</td>\n",
       "      <td>6</td>\n",
       "      <td>v1001808808</td>\n",
       "      <td>1.1.1.2</td>\n",
       "      <td>83.0</td>\n",
       "      <td>NaN</td>\n",
       "      <td>NaN</td>\n",
       "      <td>NaN</td>\n",
       "      <td>0</td>\n",
       "    </tr>\n",
       "  </tbody>\n",
       "</table>\n",
       "</div>"
      ],
      "text/plain": [
       "   REF_DATE     GEO           DGUID            Indicator  \\\n",
       "0      1961  Canada  2016A000011124  Domestic production   \n",
       "1      1961  Canada  2016A000011124  Domestic production   \n",
       "\n",
       "                        Industry          Authority      UOM  UOM_ID  \\\n",
       "0  Cannabis cultivation industry    Licensed source  Dollars      81   \n",
       "1  Cannabis cultivation industry  Unlicensed source  Dollars      81   \n",
       "\n",
       "  SCALAR_FACTOR  SCALAR_ID       VECTOR COORDINATE  VALUE STATUS  SYMBOL  \\\n",
       "0      millions          6  v1001808807    1.1.1.1    0.0    NaN     NaN   \n",
       "1      millions          6  v1001808808    1.1.1.2   83.0    NaN     NaN   \n",
       "\n",
       "   TERMINATED  DECIMALS  \n",
       "0         NaN         0  \n",
       "1         NaN         0  "
      ]
     },
     "execution_count": 15,
     "metadata": {},
     "output_type": "execute_result"
    }
   ],
   "source": [
    "df_industry_production.head(2)"
   ]
  },
  {
   "cell_type": "code",
   "execution_count": 16,
   "id": "9625ba47-191d-4543-9961-6816cbdccc89",
   "metadata": {
    "tags": []
   },
   "outputs": [
    {
     "data": {
      "text/html": [
       "<div>\n",
       "<style scoped>\n",
       "    .dataframe tbody tr th:only-of-type {\n",
       "        vertical-align: middle;\n",
       "    }\n",
       "\n",
       "    .dataframe tbody tr th {\n",
       "        vertical-align: top;\n",
       "    }\n",
       "\n",
       "    .dataframe thead th {\n",
       "        text-align: right;\n",
       "    }\n",
       "</style>\n",
       "<table border=\"1\" class=\"dataframe\">\n",
       "  <thead>\n",
       "    <tr style=\"text-align: right;\">\n",
       "      <th></th>\n",
       "      <th>REF_DATE</th>\n",
       "      <th>GEO</th>\n",
       "      <th>DGUID</th>\n",
       "      <th>Indicator</th>\n",
       "      <th>UOM</th>\n",
       "      <th>UOM_ID</th>\n",
       "      <th>SCALAR_FACTOR</th>\n",
       "      <th>SCALAR_ID</th>\n",
       "      <th>VECTOR</th>\n",
       "      <th>COORDINATE</th>\n",
       "      <th>VALUE</th>\n",
       "      <th>STATUS</th>\n",
       "      <th>SYMBOL</th>\n",
       "      <th>TERMINATED</th>\n",
       "      <th>DECIMALS</th>\n",
       "    </tr>\n",
       "  </thead>\n",
       "  <tbody>\n",
       "    <tr>\n",
       "      <th>0</th>\n",
       "      <td>2016</td>\n",
       "      <td>Canada</td>\n",
       "      <td>2016A000011124</td>\n",
       "      <td>Total revenue</td>\n",
       "      <td>Dollars</td>\n",
       "      <td>81</td>\n",
       "      <td>units</td>\n",
       "      <td>0</td>\n",
       "      <td>v1001849328</td>\n",
       "      <td>1.1</td>\n",
       "      <td>245732000.0</td>\n",
       "      <td>NaN</td>\n",
       "      <td>NaN</td>\n",
       "      <td>NaN</td>\n",
       "      <td>0</td>\n",
       "    </tr>\n",
       "    <tr>\n",
       "      <th>1</th>\n",
       "      <td>2016</td>\n",
       "      <td>Canada</td>\n",
       "      <td>2016A000011124</td>\n",
       "      <td>Cannabis revenue</td>\n",
       "      <td>Dollars</td>\n",
       "      <td>81</td>\n",
       "      <td>units</td>\n",
       "      <td>0</td>\n",
       "      <td>v1001849329</td>\n",
       "      <td>1.2</td>\n",
       "      <td>239363000.0</td>\n",
       "      <td>NaN</td>\n",
       "      <td>NaN</td>\n",
       "      <td>NaN</td>\n",
       "      <td>0</td>\n",
       "    </tr>\n",
       "  </tbody>\n",
       "</table>\n",
       "</div>"
      ],
      "text/plain": [
       "   REF_DATE     GEO           DGUID         Indicator      UOM  UOM_ID  \\\n",
       "0      2016  Canada  2016A000011124     Total revenue  Dollars      81   \n",
       "1      2016  Canada  2016A000011124  Cannabis revenue  Dollars      81   \n",
       "\n",
       "  SCALAR_FACTOR  SCALAR_ID       VECTOR  COORDINATE        VALUE  STATUS  \\\n",
       "0        units           0  v1001849328         1.1  245732000.0     NaN   \n",
       "1        units           0  v1001849329         1.2  239363000.0     NaN   \n",
       "\n",
       "   SYMBOL  TERMINATED  DECIMALS  \n",
       "0     NaN         NaN         0  \n",
       "1     NaN         NaN         0  "
      ]
     },
     "execution_count": 16,
     "metadata": {},
     "output_type": "execute_result"
    }
   ],
   "source": [
    "df_licensed_industry_stats.head(2)"
   ]
  },
  {
   "cell_type": "code",
   "execution_count": 17,
   "id": "3867f60e-e0b1-4665-bd93-13d33cf24a40",
   "metadata": {
    "tags": []
   },
   "outputs": [
    {
     "data": {
      "text/html": [
       "<div>\n",
       "<style scoped>\n",
       "    .dataframe tbody tr th:only-of-type {\n",
       "        vertical-align: middle;\n",
       "    }\n",
       "\n",
       "    .dataframe tbody tr th {\n",
       "        vertical-align: top;\n",
       "    }\n",
       "\n",
       "    .dataframe thead th {\n",
       "        text-align: right;\n",
       "    }\n",
       "</style>\n",
       "<table border=\"1\" class=\"dataframe\">\n",
       "  <thead>\n",
       "    <tr style=\"text-align: right;\">\n",
       "      <th></th>\n",
       "      <th>REF_DATE</th>\n",
       "      <th>GEO</th>\n",
       "      <th>DGUID</th>\n",
       "      <th>Indicator</th>\n",
       "      <th>Type of use</th>\n",
       "      <th>UOM</th>\n",
       "      <th>UOM_ID</th>\n",
       "      <th>SCALAR_FACTOR</th>\n",
       "      <th>SCALAR_ID</th>\n",
       "      <th>VECTOR</th>\n",
       "      <th>COORDINATE</th>\n",
       "      <th>VALUE</th>\n",
       "      <th>STATUS</th>\n",
       "      <th>SYMBOL</th>\n",
       "      <th>TERMINATED</th>\n",
       "      <th>DECIMALS</th>\n",
       "    </tr>\n",
       "  </thead>\n",
       "  <tbody>\n",
       "    <tr>\n",
       "      <th>0</th>\n",
       "      <td>1961</td>\n",
       "      <td>Canada</td>\n",
       "      <td>2016A000011124</td>\n",
       "      <td>Total supply</td>\n",
       "      <td>Medical use</td>\n",
       "      <td>Dollars</td>\n",
       "      <td>81</td>\n",
       "      <td>millions</td>\n",
       "      <td>6</td>\n",
       "      <td>v1001809167</td>\n",
       "      <td>1.1.1</td>\n",
       "      <td>0</td>\n",
       "      <td>NaN</td>\n",
       "      <td>NaN</td>\n",
       "      <td>NaN</td>\n",
       "      <td>0</td>\n",
       "    </tr>\n",
       "    <tr>\n",
       "      <th>1</th>\n",
       "      <td>1961</td>\n",
       "      <td>Canada</td>\n",
       "      <td>2016A000011124</td>\n",
       "      <td>Total supply</td>\n",
       "      <td>Non-medical use</td>\n",
       "      <td>Dollars</td>\n",
       "      <td>81</td>\n",
       "      <td>millions</td>\n",
       "      <td>6</td>\n",
       "      <td>v1001809179</td>\n",
       "      <td>1.1.2</td>\n",
       "      <td>190</td>\n",
       "      <td>NaN</td>\n",
       "      <td>NaN</td>\n",
       "      <td>NaN</td>\n",
       "      <td>0</td>\n",
       "    </tr>\n",
       "  </tbody>\n",
       "</table>\n",
       "</div>"
      ],
      "text/plain": [
       "   REF_DATE     GEO           DGUID     Indicator      Type of use      UOM  \\\n",
       "0      1961  Canada  2016A000011124  Total supply      Medical use  Dollars   \n",
       "1      1961  Canada  2016A000011124  Total supply  Non-medical use  Dollars   \n",
       "\n",
       "   UOM_ID SCALAR_FACTOR  SCALAR_ID       VECTOR COORDINATE  VALUE  STATUS  \\\n",
       "0      81      millions          6  v1001809167      1.1.1      0     NaN   \n",
       "1      81      millions          6  v1001809179      1.1.2    190     NaN   \n",
       "\n",
       "   SYMBOL  TERMINATED  DECIMALS  \n",
       "0     NaN         NaN         0  \n",
       "1     NaN         NaN         0  "
      ]
     },
     "execution_count": 17,
     "metadata": {},
     "output_type": "execute_result"
    }
   ],
   "source": [
    "df_supply.head(2)"
   ]
  },
  {
   "cell_type": "markdown",
   "id": "6e3c2c88-0ee7-4920-b1a1-4f1ed758a0cf",
   "metadata": {},
   "source": [
    "## Now To Load The Dataframes to MongoDB and Azure SQL Server\n",
    "- SQL:"
   ]
  },
  {
   "cell_type": "code",
   "execution_count": 34,
   "id": "31586345-00a9-46f8-a7de-83cc2916117e",
   "metadata": {
    "tags": []
   },
   "outputs": [],
   "source": [
    "#First I have to create the database for the data to be put in\n",
    "sqlEngine = create_engine(conn_str_sql, pool_recycle=3600)\n",
    "\n",
    "conn = sqlEngine.connect()\n",
    "\n",
    "conn.execute(text(\"DROP DATABASE IF EXISTS `ds2002-Midterm2`;\"))\n",
    "conn.execute(text(\"CREATE DATABASE `ds2002-Midterm2`;\"))\n",
    "\n",
    "conn.close()"
   ]
  },
  {
   "cell_type": "code",
   "execution_count": 38,
   "id": "4cc28d84-80f6-4baa-971c-2296343d95fb",
   "metadata": {
    "tags": []
   },
   "outputs": [],
   "source": [
    "#Sends the dataframes to be created as tables on the SQL server\n",
    "set_dataframe(conn_str_sql, df_consumer_and_producer, \"consumer_and_producer\", \"insert\")\n",
    "set_dataframe(conn_str_sql, df_income, \"income\", \"insert\")\n",
    "set_dataframe(conn_str_sql, df_industry_production, \"industry_production\", \"insert\")\n",
    "set_dataframe(conn_str_sql, df_licensed_industry_stats, \"licensed_industry_stats\", \"insert\")\n",
    "set_dataframe(conn_str_sql, df_supply, \"supply\", \"insert\")"
   ]
  },
  {
   "cell_type": "markdown",
   "id": "42548efe-4f94-4764-9a4a-fbf26daf30c7",
   "metadata": {},
   "source": [
    "- MongoDB:"
   ]
  },
  {
   "cell_type": "code",
   "execution_count": 43,
   "id": "f7b253aa-1582-4efa-be92-4f995025ed64",
   "metadata": {
    "tags": []
   },
   "outputs": [],
   "source": [
    "#Sends the dataframes to be created as tables in a MongoDB cluster\n",
    "set_mongo_dataframe(conn_str_mongo, df_consumer_and_producer, db_name_mongo, \"consumer_and_producer\")\n",
    "set_mongo_dataframe(conn_str_mongo, df_income, db_name_mongo, \"income\")\n",
    "set_mongo_dataframe(conn_str_mongo, df_industry_production, db_name_mongo, \"industry_production\")\n",
    "set_mongo_dataframe(conn_str_mongo, df_licensed_industry_stats, db_name_mongo, \"licensed_industry_stats\")\n",
    "set_mongo_dataframe(conn_str_mongo, df_supply, db_name_mongo, \"supply\")"
   ]
  },
  {
   "cell_type": "code",
   "execution_count": null,
   "id": "36bd4ffd-3351-42db-9171-62ce47d7e267",
   "metadata": {},
   "outputs": [],
   "source": [
    "from IPython.display import Image\n",
    "Image(filename='sql_data_mart.png') "
   ]
  }
 ],
 "metadata": {
  "kernelspec": {
   "display_name": "Python 3 (ipykernel)",
   "language": "python",
   "name": "python3"
  },
  "language_info": {
   "codemirror_mode": {
    "name": "ipython",
    "version": 3
   },
   "file_extension": ".py",
   "mimetype": "text/x-python",
   "name": "python",
   "nbconvert_exporter": "python",
   "pygments_lexer": "ipython3",
   "version": "3.10.6"
  }
 },
 "nbformat": 4,
 "nbformat_minor": 5
}
