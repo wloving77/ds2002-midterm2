{
 "cells": [
  {
   "cell_type": "markdown",
   "id": "f854f460-fdd8-4c0b-af45-844c32531e6b",
   "metadata": {},
   "source": [
    "# This Notebook Loads Data into MongoDB, a local mySQL Server, and finds one of those tables from the Local Filesystem\n",
    "\n",
    "1. There will be a separate Azure notebook that accomplishes the data streaming (Bronze, Silver, Gold) and creates the fact table.\n",
    "2. The dataset was sourced from https://www.kaggle.com/datasets/benten867/cannabis-data?select=consumer+and+producer.csv"
   ]
  },
  {
   "cell_type": "code",
   "execution_count": 4,
   "id": "1e5d7fbe-1dfb-400e-8d8d-56e59f488693",
   "metadata": {
    "tags": []
   },
   "outputs": [],
   "source": [
    "import os\n",
    "from sqlalchemy import text, create_engine\n",
    "import pandas as pd\n",
    "import json\n",
    "import datetime\n",
    "import pymongo\n",
    "import requests"
   ]
  },
  {
   "cell_type": "code",
   "execution_count": 7,
   "id": "470b3c21-18d9-4043-a231-bfce07410f67",
   "metadata": {
    "tags": []
   },
   "outputs": [],
   "source": [
    "kaggle_user = \"benten867\"\n",
    "database = \"cannabis-data\"\n",
    "table1 = \"income.csv\""
   ]
  },
  {
   "cell_type": "code",
   "execution_count": 8,
   "id": "5b3c8416-9854-4f16-9c4d-5125b6f254e6",
   "metadata": {
    "tags": []
   },
   "outputs": [],
   "source": [
    "data_table_url = f\"https://www.kaggle.com/{kaggle_user}/{database}/download/{table1}\""
   ]
  },
  {
   "cell_type": "code",
   "execution_count": 9,
   "id": "490f9980-6b15-44d8-a478-c67a98573996",
   "metadata": {
    "tags": []
   },
   "outputs": [],
   "source": [
    "response = requests.get(data_table_url)"
   ]
  },
  {
   "cell_type": "code",
   "execution_count": 13,
   "id": "f85c152c-6a47-41e0-a24b-0100c230d889",
   "metadata": {
    "tags": []
   },
   "outputs": [],
   "source": [
    "df = pd.DataFrame(response.raw)"
   ]
  },
  {
   "cell_type": "code",
   "execution_count": 14,
   "id": "18b90032-e964-4b87-96c3-fe5086cf6411",
   "metadata": {
    "tags": []
   },
   "outputs": [
    {
     "data": {
      "text/html": [
       "<div>\n",
       "<style scoped>\n",
       "    .dataframe tbody tr th:only-of-type {\n",
       "        vertical-align: middle;\n",
       "    }\n",
       "\n",
       "    .dataframe tbody tr th {\n",
       "        vertical-align: top;\n",
       "    }\n",
       "\n",
       "    .dataframe thead th {\n",
       "        text-align: right;\n",
       "    }\n",
       "</style>\n",
       "<table border=\"1\" class=\"dataframe\">\n",
       "  <thead>\n",
       "    <tr style=\"text-align: right;\">\n",
       "      <th></th>\n",
       "    </tr>\n",
       "  </thead>\n",
       "  <tbody>\n",
       "  </tbody>\n",
       "</table>\n",
       "</div>"
      ],
      "text/plain": [
       "Empty DataFrame\n",
       "Columns: []\n",
       "Index: []"
      ]
     },
     "execution_count": 14,
     "metadata": {},
     "output_type": "execute_result"
    }
   ],
   "source": [
    "df.head()"
   ]
  },
  {
   "cell_type": "code",
   "execution_count": null,
   "id": "519811d8-4219-45a6-ae61-a97fafdb8bb9",
   "metadata": {},
   "outputs": [],
   "source": []
  }
 ],
 "metadata": {
  "kernelspec": {
   "display_name": "Python 3 (ipykernel)",
   "language": "python",
   "name": "python3"
  },
  "language_info": {
   "codemirror_mode": {
    "name": "ipython",
    "version": 3
   },
   "file_extension": ".py",
   "mimetype": "text/x-python",
   "name": "python",
   "nbconvert_exporter": "python",
   "pygments_lexer": "ipython3",
   "version": "3.10.6"
  }
 },
 "nbformat": 4,
 "nbformat_minor": 5
}
